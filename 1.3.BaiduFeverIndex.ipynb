{
 "cells": [
  {
   "cell_type": "code",
   "execution_count": 6,
   "metadata": {},
   "outputs": [
    {
     "name": "stdout",
     "output_type": "stream",
     "text": [
      "2022-12-29\n"
     ]
    }
   ],
   "source": [
    "import warnings\n",
    "warnings.simplefilter(action='ignore')\n",
    "\n",
    "import pandas as pd\n",
    "import numpy as np\n",
    "\n",
    "# dated='2022-12-26'\n",
    "from datetime import datetime,timedelta\n",
    "thedate=datetime.strftime(datetime.today()-timedelta(days=0),\"%Y-%m-%d\")\n",
    "\n",
    "df=pd.read_csv(r'DataSource\\BaiduYiQingIndex\\baidu_yiqing_%s.csv' % thedate)\n",
    "\n",
    "def convertDate(s):\n",
    "    s=f'{s:.2f}'.replace('.','/')\n",
    "    return '2022/'+s\n",
    "\n",
    "df['date_new']=df['date'].apply(convertDate)\n",
    "#TG daily wkbk update\n",
    "\n",
    "tablehead=pd.read_hdf('Processed_Data/bd_covid_index.h5',key='table_head')\n",
    "c1=df['type']=='百度疫情搜索指数'\n",
    "c2=df['date_new']>=datetime.strftime(datetime.today()-timedelta(days=1),\"%Y/%m/%d\")\n",
    "df2=df[c1 & c2]\n",
    "tablehead.merge(df2,on='city')[['index']].to_clipboard(index=False)\n",
    "\n",
    "print(thedate)"
   ]
  },
  {
   "cell_type": "code",
   "execution_count": 4,
   "metadata": {},
   "outputs": [],
   "source": []
  },
  {
   "cell_type": "code",
   "execution_count": 19,
   "metadata": {},
   "outputs": [],
   "source": [
    "# feverindex=df[c1][['city','date_new','index']]\n",
    "# feverindex.columns=['城市','date','BDfever']\n",
    "# feverindex.to_hdf(r'Processed_Data/BaiduFever.h5',key='1220')"
   ]
  }
 ],
 "metadata": {
  "kernelspec": {
   "display_name": "Python 3",
   "language": "python",
   "name": "python3"
  },
  "language_info": {
   "codemirror_mode": {
    "name": "ipython",
    "version": 3
   },
   "file_extension": ".py",
   "mimetype": "text/x-python",
   "name": "python",
   "nbconvert_exporter": "python",
   "pygments_lexer": "ipython3",
   "version": "3.10.4"
  },
  "orig_nbformat": 4,
  "vscode": {
   "interpreter": {
    "hash": "e261ef090d81a4146804326fe048341ae181a2e90c498e25bece4d3ce4ed8c39"
   }
  }
 },
 "nbformat": 4,
 "nbformat_minor": 2
}
