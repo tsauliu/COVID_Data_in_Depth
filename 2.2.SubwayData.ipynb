{
 "cells": [
  {
   "cell_type": "code",
   "execution_count": 75,
   "metadata": {},
   "outputs": [
    {
     "data": {
      "text/html": [
       "<div>\n",
       "<style scoped>\n",
       "    .dataframe tbody tr th:only-of-type {\n",
       "        vertical-align: middle;\n",
       "    }\n",
       "\n",
       "    .dataframe tbody tr th {\n",
       "        vertical-align: top;\n",
       "    }\n",
       "\n",
       "    .dataframe thead th {\n",
       "        text-align: right;\n",
       "    }\n",
       "</style>\n",
       "<table border=\"1\" class=\"dataframe\">\n",
       "  <thead>\n",
       "    <tr style=\"text-align: right;\">\n",
       "      <th></th>\n",
       "      <th>城市</th>\n",
       "      <th>date</th>\n",
       "      <th>subway</th>\n",
       "      <th>dt</th>\n",
       "      <th>subway_last7d_mean</th>\n",
       "      <th>subway_WoW</th>\n",
       "    </tr>\n",
       "  </thead>\n",
       "  <tbody>\n",
       "    <tr>\n",
       "      <th>39</th>\n",
       "      <td>长沙</td>\n",
       "      <td>2023-01-14</td>\n",
       "      <td>134.74</td>\n",
       "      <td>01-14</td>\n",
       "      <td>157.832857</td>\n",
       "      <td>0.162257</td>\n",
       "    </tr>\n",
       "    <tr>\n",
       "      <th>10</th>\n",
       "      <td>长沙</td>\n",
       "      <td>2023-01-15</td>\n",
       "      <td>119.95</td>\n",
       "      <td>01-15</td>\n",
       "      <td>155.222857</td>\n",
       "      <td>0.120847</td>\n",
       "    </tr>\n",
       "  </tbody>\n",
       "</table>\n",
       "</div>"
      ],
      "text/plain": [
       "    城市        date  subway     dt  subway_last7d_mean  subway_WoW\n",
       "39  长沙  2023-01-14  134.74  01-14          157.832857    0.162257\n",
       "10  长沙  2023-01-15  119.95  01-15          155.222857    0.120847"
      ]
     },
     "execution_count": 75,
     "metadata": {},
     "output_type": "execute_result"
    }
   ],
   "source": [
    "import warnings\n",
    "warnings.simplefilter(action='ignore')\n",
    "import pandas as pd\n",
    "import numpy as np\n",
    "import datetime\n",
    "\n",
    "df=pd.read_excel(r'./DataSource/DailyUpdateForTG.xlsx',skiprows=1,sheet_name=1)\n",
    "df['城市']=df['指标名称'].str.split(\":\").str[-1]\n",
    "df=df.drop(columns=['指标名称','单位','来源','更新时间'])\n",
    "df.to_hdf('Processed_Data/subway.h5',key='raw')\n",
    "subway=pd.read_hdf('Processed_Data/subway.h5',key='raw')\n",
    "subway=pd.melt(subway,id_vars=['城市'],var_name='date',value_name='subway')\n",
    "subway=subway[subway['subway']>0]\n",
    "subway['date'] = pd.to_datetime(subway['date']).dt.date\n",
    "subway=subway.sort_values(by=['城市','date'],ascending=True)\n",
    "subway['date']=subway['date'].astype('str')\n",
    "subway['dt']=subway['date'].str[-5:]\n",
    "\n",
    "subway['subway_last7d_mean']=subway.groupby('城市')['subway'].transform(lambda x: x.rolling(7, 2).mean())\n",
    "subway['subway_WoW']=subway['subway_last7d_mean']/subway.groupby('城市')['subway_last7d_mean'].transform(lambda x: x.shift(periods=7)) -1\n",
    "\n",
    "c1=subway['date']>'2018-10-01'\n",
    "c2=subway['date']<'2019-06-01'\n",
    "sw_19=subway[c1&c2]\n",
    "sw_19=sw_19[['城市', 'dt','subway_last7d_mean']]\n",
    "sw_19['subway_last7d_mean']=sw_19.groupby('城市')['subway_last7d_mean'].transform(lambda x: x.shift(periods=-14)) #调整CNY\n",
    "sw_19=sw_19.rename(columns={'subway_last7d_mean':'subway_19_rolling_mean'})\n",
    "\n",
    "c2=subway['date'].str.contains('2022|2023')\n",
    "sw_22=subway[c2]\n",
    "sw_22=sw_22.merge(sw_19,how='left',on=['城市','dt'])\n",
    "sw_22['subway_status']=sw_22['subway_last7d_mean']/sw_22['subway_19_rolling_mean']\n",
    "\n",
    "subway.tail(2)"
   ]
  },
  {
   "cell_type": "code",
   "execution_count": 76,
   "metadata": {},
   "outputs": [
    {
     "name": "stdout",
     "output_type": "stream",
     "text": [
      "2023-01-14\n"
     ]
    }
   ],
   "source": [
    "# 2.2 WoW vs. GDP\n",
    "riqi='2023-01-14'\n",
    "\n",
    "city_popu=pd.read_hdf('Processed_Data/citypopu.h5',key='raw2')\n",
    "o=sw_22.merge(city_popu,on='城市',how='left')\n",
    "\n",
    "o=o[o['date']==riqi][['城市','GDP','subway_WoW']] \n",
    "\n",
    "o['size']=np.nan\n",
    "o['group']='其他'\n",
    "\n",
    "o=o.sort_values(by=['group','GDP'],ascending=False)\n",
    "o.to_clipboard(index=False,header=None)\n",
    "print(riqi)"
   ]
  },
  {
   "cell_type": "code",
   "execution_count": 77,
   "metadata": {},
   "outputs": [
    {
     "name": "stdout",
     "output_type": "stream",
     "text": [
      "2023-01-14\n"
     ]
    }
   ],
   "source": [
    "# 2.2 as of 2019 vs. GDP\n",
    "city_popu=pd.read_hdf('Processed_Data/citypopu.h5',key='raw2')\n",
    "o=sw_22.merge(city_popu,on='城市',how='left')\n",
    "\n",
    "o=o[o['subway_status']<2][sw_22['date']==riqi]\n",
    "o=o[['城市','GDP','subway_status']] \n",
    "\n",
    "o['size']=np.nan\n",
    "o['group']='其他'\n",
    "\n",
    "d=sw_22[sw_22['date']==riqi][['城市','date','subway_status']].reset_index(drop=True).rename(columns={'subway_status':'subway'})\n",
    "d['date']=pd.to_datetime(d['date'])\n",
    "d.to_hdf('Processed_Data/city_compare.h5',key='subway')\n",
    "\n",
    "o=o.sort_values(by=['group','GDP'],ascending=False)\n",
    "o.to_clipboard(index=False,header=None)\n",
    "print(riqi)"
   ]
  },
  {
   "cell_type": "code",
   "execution_count": 70,
   "metadata": {},
   "outputs": [],
   "source": [
    "#TY copy to wkbk\n",
    "# d1=pd.read_clipboard()\n",
    "# d1.to_hdf('Processed_Data/tablehead.h5','subway')\n",
    "d1=pd.read_hdf('Processed_Data/tablehead.h5','subway')\n",
    "wkbk=pd.pivot_table(subway[subway['date']>='2023-01-11'],index='城市',columns='date',values='subway',aggfunc='mean').reset_index()\n",
    "d1.merge(wkbk,how='left',on='城市').drop(columns=['城市']).to_clipboard(index=False)"
   ]
  },
  {
   "cell_type": "code",
   "execution_count": 84,
   "metadata": {},
   "outputs": [],
   "source": [
    "#总体恢复程度\n",
    "\n",
    "first_tier='北京,上海,深圳,广州'.split(',')\n",
    "second_tier='成都,西安,苏州,重庆,武汉,郑州,南京'.split(',')\n",
    "\n",
    "sw_22.loc[sw_22['城市'].isin(first_tier),'citytier']='T1'\n",
    "sw_22.loc[sw_22['城市'].isin(second_tier),'citytier']='T2'\n",
    "\n",
    "bytier=sw_22.copy()\n",
    "bytier['subway_last7d_mean']=bytier['subway_last7d_mean']*7\n",
    "bytier['subway_19_rolling_mean']=bytier['subway_19_rolling_mean']*7\n",
    "bytier=bytier.groupby(['citytier','date']).sum().reset_index()[['citytier','date','subway_last7d_mean','subway_19_rolling_mean']]\n",
    "bytier['status']=bytier['subway_last7d_mean']/bytier['subway_19_rolling_mean']\n",
    "bytier['status']=bytier['status'].transform(lambda x: x.rolling(7, 7).mean())\n",
    "bytier=pd.pivot_table(bytier,index='date',columns='citytier',values='status',aggfunc='mean').reset_index()\n",
    "\n",
    "alldata=sw_22.copy()\n",
    "alldata['subway_last7d_mean']=alldata['subway_last7d_mean']*7\n",
    "alldata['subway_19_rolling_mean']=alldata['subway_19_rolling_mean']*7\n",
    "alldata=alldata[~alldata['citytier'].isnull()].groupby(['date']).sum().reset_index()[['date','subway_last7d_mean','subway_19_rolling_mean']]\n",
    "alldata['status']=alldata['subway_last7d_mean']/alldata['subway_19_rolling_mean']\n",
    "alldata['status']=alldata['status'].transform(lambda x: x.rolling(7, 7).mean())\n",
    "alldata=alldata[['date','status']].rename(columns={'status':'all'})\n",
    "alldata.tail(60).to_clipboard(index=False)"
   ]
  }
 ],
 "metadata": {
  "kernelspec": {
   "display_name": "Python 3",
   "language": "python",
   "name": "python3"
  },
  "language_info": {
   "codemirror_mode": {
    "name": "ipython",
    "version": 3
   },
   "file_extension": ".py",
   "mimetype": "text/x-python",
   "name": "python",
   "nbconvert_exporter": "python",
   "pygments_lexer": "ipython3",
   "version": "3.10.4"
  },
  "orig_nbformat": 4,
  "vscode": {
   "interpreter": {
    "hash": "e261ef090d81a4146804326fe048341ae181a2e90c498e25bece4d3ce4ed8c39"
   }
  }
 },
 "nbformat": 4,
 "nbformat_minor": 2
}
