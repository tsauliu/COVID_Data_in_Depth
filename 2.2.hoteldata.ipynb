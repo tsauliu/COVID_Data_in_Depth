{
 "cells": [
  {
   "cell_type": "code",
   "execution_count": 20,
   "metadata": {},
   "outputs": [],
   "source": [
    "import pandas as pd\n",
    "import warnings\n",
    "warnings.simplefilter(action='ignore')\n",
    "import numpy as np\n",
    "\n",
    "city_popu=pd.read_hdf('Processed_Data/citypopu.h5',key='raw2')\n",
    "city_popu['城市']=city_popu['城市'].str.replace('市',\"\")\n",
    "city_popu['常住人口']=pd.to_numeric(city_popu['常住人口'])"
   ]
  },
  {
   "cell_type": "code",
   "execution_count": 21,
   "metadata": {},
   "outputs": [
    {
     "name": "stdout",
     "output_type": "stream",
     "text": [
      "huazhu_stock_2022-12-22.csv\n",
      "huazhu_stock_2022-12-23.csv\n",
      "huazhu_stock_2022-12-24.csv\n",
      "huazhu_stock_2022-12-25.csv\n",
      "huazhu_stock_2022-12-26.csv\n"
     ]
    }
   ],
   "source": [
    "import os\n",
    "dfo=pd.DataFrame()\n",
    "\n",
    "for f in os.listdir('./DataSource/Huazhu/')[-5:]:\n",
    "    print(f)\n",
    "    date=f.split('_')[-1].split('.')[0]\n",
    "    d=pd.read_csv('./DataSource/Huazhu\\%s' % f)\n",
    "\n",
    "\n",
    "    c1=d['brandLevel'].isin(['经济型','舒适型'])\n",
    "\n",
    "    d1=d[c1][['cityId', 'cityName', 'brandLevel', 'hotelId', 'hotelName', 'roomName','checkInType', 'stock']]\n",
    "    d1=d1.groupby(by=['cityName', 'brandLevel','hotelName','checkInType','roomName']).mean().reset_index()\n",
    "    d1=d1.groupby(by=['cityName', 'brandLevel','checkInType','hotelName']).sum().reset_index()\n",
    "    # pv=pd.pivot_table(d1,index='cityName',values='stock',columns='checkInType', aggfunc=np.sum).reset_index()\n",
    "    pv=pd.pivot_table(d1,index=['cityName','hotelName'],values='stock',columns='checkInType', aggfunc=np.sum).reset_index()\n",
    "    pv=pv[~pv['now'].isna()]\n",
    "    pv=pv[~pv['future'].isna()]\n",
    "    \n",
    "    pv['bookedNights']=pv['future']-pv['now']\n",
    "    pv['hotel_occ']=pv['bookedNights']/pv['future']\n",
    "    \n",
    "    c2=pv['now']>5\n",
    "    c3=pv['hotel_occ']<0.9\n",
    "\n",
    "    pv=pv[c2&c3]\n",
    "\n",
    "    pv=pv.groupby(by='cityName').sum().reset_index()\n",
    "    pv['city_occ']=pv['bookedNights']/pv['future']\n",
    "    pv['date']=date\n",
    "\n",
    "    dfo=pd.concat([dfo,pv],axis=0)"
   ]
  },
  {
   "cell_type": "code",
   "execution_count": 22,
   "metadata": {},
   "outputs": [],
   "source": [
    "old=pd.read_hdf(r'Processed_Data/hotel.h5',key='1223')\n",
    "new=pd.concat([old,dfo])\n",
    "new=new.drop_duplicates()\n",
    "new.to_hdf(r'hotel.h5',key='1223')"
   ]
  },
  {
   "cell_type": "code",
   "execution_count": 23,
   "metadata": {},
   "outputs": [
    {
     "data": {
      "text/html": [
       "<div>\n",
       "<style scoped>\n",
       "    .dataframe tbody tr th:only-of-type {\n",
       "        vertical-align: middle;\n",
       "    }\n",
       "\n",
       "    .dataframe tbody tr th {\n",
       "        vertical-align: top;\n",
       "    }\n",
       "\n",
       "    .dataframe thead th {\n",
       "        text-align: right;\n",
       "    }\n",
       "</style>\n",
       "<table border=\"1\" class=\"dataframe\">\n",
       "  <thead>\n",
       "    <tr style=\"text-align: right;\">\n",
       "      <th></th>\n",
       "      <th>city</th>\n",
       "      <th>progress</th>\n",
       "      <th>peak</th>\n",
       "      <th>end</th>\n",
       "      <th>城市</th>\n",
       "      <th>常住人口</th>\n",
       "      <th>progress_2</th>\n",
       "    </tr>\n",
       "  </thead>\n",
       "  <tbody>\n",
       "    <tr>\n",
       "      <th>295</th>\n",
       "      <td>聊城</td>\n",
       "      <td>回落至34%</td>\n",
       "      <td>2022/12/20</td>\n",
       "      <td>2023/03/07</td>\n",
       "      <td>聊城</td>\n",
       "      <td>201</td>\n",
       "      <td>34</td>\n",
       "    </tr>\n",
       "    <tr>\n",
       "      <th>296</th>\n",
       "      <td>宿迁</td>\n",
       "      <td>回落至41%</td>\n",
       "      <td>2022/12/21</td>\n",
       "      <td>2023/03/08</td>\n",
       "      <td>宿迁</td>\n",
       "      <td>310</td>\n",
       "      <td>41</td>\n",
       "    </tr>\n",
       "  </tbody>\n",
       "</table>\n",
       "</div>"
      ],
      "text/plain": [
       "    city progress        peak         end  城市  常住人口  progress_2\n",
       "295   聊城   回落至34%  2022/12/20  2023/03/07  聊城   201          34\n",
       "296   宿迁   回落至41%  2022/12/21  2023/03/08  宿迁   310          41"
      ]
     },
     "execution_count": 23,
     "metadata": {},
     "output_type": "execute_result"
    }
   ],
   "source": [
    "# df_covid=pd.read_hdf(r'BaiduFever.h5',key='1220')\n",
    "# df_covid['BDfever_last7Avg']=df_covid.groupby('城市')['BDfever'].transform(lambda x: x.rolling(7, 7).mean())\n",
    "# df_covid.tail(2)\n",
    "\n",
    "df_covid=pd.read_hdf('Processed_Data/Baidu_covid_progress.h5',key='raw')\n",
    "df_covid.tail(2)"
   ]
  },
  {
   "cell_type": "code",
   "execution_count": 27,
   "metadata": {},
   "outputs": [
    {
     "name": "stdout",
     "output_type": "stream",
     "text": [
      "The autoreload extension is already loaded. To reload it, use:\n",
      "  %reload_ext autoreload\n",
      "2022-12-26\n"
     ]
    }
   ],
   "source": [
    "# covid rank vs. hotel nights WoW\n",
    "%load_ext autoreload\n",
    "%autoreload 2\n",
    "from colored_list import dafeng_city,jidui_city,riqi\n",
    "# riqi='2022-12-26'\n",
    "# hotel=pd.read_hdf(r'./hotel.h5',key='raw1')\n",
    "hotel=new.copy()\n",
    "hotel['date']=pd.to_datetime(hotel['date'])\n",
    "hotel['cityName']=hotel['cityName'].str.replace('市','')\n",
    "\n",
    "hotel1=hotel.merge(city_popu,left_on='cityName',right_on='城市',how='inner').merge(df_covid,left_on=['cityName'],right_on=['城市'],how='left')\n",
    "hotel1['covid_rank']=hotel1.groupby(by=['date'])['progress_2'].rank(method=\"dense\", ascending=False)\n",
    "\n",
    "hotel1=hotel1.sort_values(by=['cityName','date'])\n",
    "hotel1['bookedNights_last7d_mean']=hotel1.groupby('cityName')['bookedNights'].transform(lambda x: x.rolling(7, 7).mean())\n",
    "hotel1['bookedNights_change_WoW']=(hotel1['bookedNights_last7d_mean']/hotel1.groupby('cityName')['bookedNights_last7d_mean'].transform(lambda x: x.shift(periods=7)))-1\n",
    "\n",
    "hotel1['date']=hotel1['date'].astype('string') \n",
    "\n",
    "hotel2=hotel1[hotel1['date']==riqi].sort_values(by='bookedNights_last7d_mean',ascending=False)\n",
    "hotel2=hotel2[hotel1['bookedNights_change_WoW']<2].head(100).reset_index()\n",
    "# hote1\n",
    "o=hotel2[['cityName',  'covid_rank','bookedNights_change_WoW']]\n",
    "\n",
    "\n",
    "o['size']=np.nan\n",
    "o['group']='C'\n",
    "\n",
    "c1=o['cityName'].isin(dafeng_city)\n",
    "o.loc[c1,'group']='A'\n",
    "\n",
    "c2=o['cityName'].isin(jidui_city)\n",
    "o.loc[c2,'group']='B'\n",
    "\n",
    "o=o.sort_values(by='group')\n",
    "\n",
    "o.to_clipboard(index=False,header=None)\n",
    "print(riqi)"
   ]
  },
  {
   "cell_type": "code",
   "execution_count": 52,
   "metadata": {},
   "outputs": [],
   "source": [
    "#calculate vs. 22-06\n",
    "\n",
    "import datetime\n",
    "hotel=new.copy()\n",
    "hotel['date']=pd.to_datetime(hotel['date'])\n",
    "hotel['cityName']=hotel['cityName'].str.replace('市','')\n",
    "\n",
    "\n",
    "hotel['date']=pd.to_datetime(hotel['date'])\n",
    "hotel['date']=hotel['date'].dt.date\n",
    "hotel['bookedNights_7_mean']=hotel.groupby('cityName')['bookedNights'].transform(lambda x: x.rolling(7, 1).mean())\n",
    "\n",
    "\n",
    "c1=hotel['date']< datetime.date(2022,7,1)\n",
    "c2=hotel['bookedNights']>0\n",
    "june_mean=hotel[c1&c2].groupby('cityName').mean().reset_index().sort_values(by='bookedNights')[['cityName','bookedNights']].reset_index(drop=True)\n",
    "june_mean.columns=['cityName', 'bookedNights_june']\n",
    "june_mean\n",
    "\n",
    "hotel=hotel.merge(june_mean,on='cityName')\n",
    "hotel['changes_since_june']=hotel['bookedNights_7_mean']/hotel['bookedNights_june']\n",
    "\n",
    "c3=hotel['cityName'].isin(['北京','保定','石家庄','洛阳'])\n",
    "show=hotel[c3]\n",
    "\n",
    "show=pd.pivot_table(show,index='date',columns='cityName',values='changes_since_june',aggfunc='mean').reset_index()\n",
    "show['sum']=np.nan\n",
    "\n",
    "show=show[['date','sum','北京','保定','石家庄','洛阳']]\n",
    "show.to_clipboard(index=False)"
   ]
  },
  {
   "cell_type": "code",
   "execution_count": 53,
   "metadata": {},
   "outputs": [
    {
     "name": "stdout",
     "output_type": "stream",
     "text": [
      "2022-12-26\n"
     ]
    }
   ],
   "source": [
    "# covid rank vs. hotel nights vs 202206\n",
    "\n",
    "hotel['date']=pd.to_datetime(hotel['date'])\n",
    "\n",
    "hotel1=hotel.merge(city_popu,left_on='cityName',right_on='城市',how='inner').merge(df_covid,left_on=['cityName'],right_on=['城市'],how='left')\n",
    "hotel1['covid_rank']=hotel1.groupby(by=['date'])['progress_2'].rank(method=\"dense\", ascending=False)\n",
    "\n",
    "hotel1=hotel1.sort_values(by=['cityName','date'])\n",
    "\n",
    "hotel1['date']=hotel1['date'].astype('string') \n",
    "\n",
    "hotel2=hotel1[hotel1['date']==riqi].sort_values(by='bookedNights_7_mean',ascending=False)\n",
    "hotel2=hotel2[hotel1['changes_since_june']<2].head(100).reset_index()\n",
    "# hote1\n",
    "o=hotel2[['cityName',  'covid_rank','changes_since_june']]\n",
    "\n",
    "\n",
    "o['size']=np.nan\n",
    "o['group']='C'\n",
    "\n",
    "c1=o['cityName'].isin(dafeng_city)\n",
    "o.loc[c1,'group']='A'\n",
    "\n",
    "c2=o['cityName'].isin(jidui_city)\n",
    "o.loc[c2,'group']='B'\n",
    "\n",
    "o=o.sort_values(by='group')\n",
    "\n",
    "o.to_clipboard(index=False,header=None)\n",
    "print(riqi)"
   ]
  },
  {
   "cell_type": "code",
   "execution_count": 54,
   "metadata": {},
   "outputs": [],
   "source": [
    "d1=pd.read_clipboard()\n",
    "d2=pd.pivot_table(dfo[dfo['date']>'2022-12-21'],index='cityName',columns='date',values='bookedNights',aggfunc='sum').reset_index()\n",
    "d1.merge(d2,left_on='城市',right_on='cityName',how='left').to_clipboard()"
   ]
  }
 ],
 "metadata": {
  "kernelspec": {
   "display_name": "Python 3",
   "language": "python",
   "name": "python3"
  },
  "language_info": {
   "codemirror_mode": {
    "name": "ipython",
    "version": 3
   },
   "file_extension": ".py",
   "mimetype": "text/x-python",
   "name": "python",
   "nbconvert_exporter": "python",
   "pygments_lexer": "ipython3",
   "version": "3.10.4 (tags/v3.10.4:9d38120, Mar 23 2022, 23:13:41) [MSC v.1929 64 bit (AMD64)]"
  },
  "orig_nbformat": 4,
  "vscode": {
   "interpreter": {
    "hash": "e261ef090d81a4146804326fe048341ae181a2e90c498e25bece4d3ce4ed8c39"
   }
  }
 },
 "nbformat": 4,
 "nbformat_minor": 2
}
