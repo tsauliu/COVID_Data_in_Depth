{
 "cells": [
  {
   "cell_type": "code",
   "execution_count": 5,
   "metadata": {},
   "outputs": [],
   "source": [
    "#抓取百度数据\n",
    "from bs4 import BeautifulSoup\n",
    "from selenium import webdriver\n",
    "import numpy as np\n",
    "import pandas as pd\n",
    "import re\n",
    "import os\n",
    "\n",
    "from datetime import datetime,timedelta\n",
    "thedate=datetime.strftime(datetime.today()-timedelta(days=1),\"%Y-%m-%d\")\n",
    "thedate2=datetime.strftime(datetime.today()-timedelta(days=1),\"%m.%d\")\n",
    "\n",
    "browser = webdriver.Chrome()\n",
    "url='https://motion.baidu.com/activity/yiqing_predict/main?province=%E5%85%A8%E5%9B%BD'\n",
    "browser.get(url)\n",
    "\n",
    "with open(r'./COVIDend/%s.html' % thedate,'w',encoding='utf-8') as f:\n",
    "    f.write(browser.page_source)\n",
    "\n",
    "browser.close()"
   ]
  },
  {
   "cell_type": "code",
   "execution_count": 6,
   "metadata": {},
   "outputs": [
    {
     "name": "stdout",
     "output_type": "stream",
     "text": [
      "2022-12-28\n"
     ]
    }
   ],
   "source": [
    "import warnings\n",
    "warnings.simplefilter(action='ignore')\n",
    "\n",
    "import pandas as pd\n",
    "import numpy as np\n",
    "import datetime\n",
    "\n",
    "city_popu=pd.read_hdf('Processed_Data/citypopu.h5',key='raw2')\n",
    "city_popu['城市']=city_popu['城市'].str.replace('市',\"\")\n",
    "city_popu['常住人口']=pd.to_numeric(city_popu['常住人口'])\n",
    "city_popu.head(2)\n",
    "\n",
    "\n",
    "from bs4 import BeautifulSoup\n",
    "import lxml\n",
    "# thedate=\"2022-12-26\"\n",
    "soup=BeautifulSoup(open(r'COVIDend\\%s.html'  % thedate,'r',encoding='utf-8').read())\n",
    "\n",
    "trs=soup.find_all('div',{\"class\":'list-item_1JNax'})\n",
    "\n",
    "def get_result(tr):\n",
    "    city=tr.find('div',{'class':'list-item-city_qLfui pc_UIzzf'}).find('div').text.replace('伊犁哈萨克自治州','伊犁')\n",
    "    progress=tr.find('div',{'class':'rate-text_1PWuo'}).text\n",
    "    peak=tr.find_all('div',{'class':'flex_3nTxm'})[1].text\n",
    "    end=tr.find('div',{'class':'flex_3nTxm end_MnHhu'}).text\n",
    "    return [city.replace('市',''),progress,peak,end]\n",
    "\n",
    "d=[get_result(tr) for tr in trs]\n",
    "\n",
    "df=pd.DataFrame(data=d,columns=['city','progress','peak','end'])\n",
    "df=df.sort_values(by='end')\n",
    "df=df.merge(city_popu,left_on='city',right_on='城市')\n",
    "\n",
    "def covid_progress(s):\n",
    "    s=s.replace('%','')\n",
    "    if '回落至' in s:\n",
    "        s=s.replace('回落至','')\n",
    "    if '上升至' in s:\n",
    "        s=s.replace('上升至','')\n",
    "        s=200-int(s)\n",
    "    return int(s)    \n",
    "df['progress_2']=df['progress'].apply(covid_progress)\n",
    "print(thedate)"
   ]
  },
  {
   "cell_type": "code",
   "execution_count": 7,
   "metadata": {},
   "outputs": [
    {
     "name": "stdout",
     "output_type": "stream",
     "text": [
      "2022-12-28\n"
     ]
    }
   ],
   "source": [
    "df.to_hdf('Processed_Data/Baidu_covid_progress.h5',key='raw')\n",
    "print(thedate)"
   ]
  },
  {
   "cell_type": "code",
   "execution_count": 13,
   "metadata": {},
   "outputs": [],
   "source": [
    "# title=pd.read_clipboard()\n",
    "title.merge(df[['city','progress']],how='left',on='city').to_clipboard(index=False)"
   ]
  },
  {
   "cell_type": "code",
   "execution_count": 9,
   "metadata": {},
   "outputs": [],
   "source": [
    "df.to_clipboard()"
   ]
  },
  {
   "cell_type": "code",
   "execution_count": 4,
   "metadata": {},
   "outputs": [],
   "source": [
    "#COVID END date\n",
    "\n",
    "allpeople=df['常住人口'].sum()\n",
    "# allpeople\n",
    "df2=df.groupby('end').sum().reset_index()\n",
    "df2['人口cumsum']=df2['常住人口'].cumsum()\n",
    "df2['人口cumsum_per']=df2['人口cumsum']/allpeople\n",
    "df2['sum']=np.nan\n",
    "df2[['end','sum','人口cumsum_per']].to_clipboard(index=False,header=None)"
   ]
  },
  {
   "cell_type": "code",
   "execution_count": 29,
   "metadata": {},
   "outputs": [
    {
     "data": {
      "text/html": [
       "<div>\n",
       "<style scoped>\n",
       "    .dataframe tbody tr th:only-of-type {\n",
       "        vertical-align: middle;\n",
       "    }\n",
       "\n",
       "    .dataframe tbody tr th {\n",
       "        vertical-align: top;\n",
       "    }\n",
       "\n",
       "    .dataframe thead th {\n",
       "        text-align: right;\n",
       "    }\n",
       "</style>\n",
       "<table border=\"1\" class=\"dataframe\">\n",
       "  <thead>\n",
       "    <tr style=\"text-align: right;\">\n",
       "      <th>status</th>\n",
       "      <th>0 sum</th>\n",
       "      <th>3上升后期</th>\n",
       "      <th>4下降初期</th>\n",
       "      <th>5下降中期</th>\n",
       "      <th>6下降后期</th>\n",
       "    </tr>\n",
       "    <tr>\n",
       "      <th>date</th>\n",
       "      <th></th>\n",
       "      <th></th>\n",
       "      <th></th>\n",
       "      <th></th>\n",
       "      <th></th>\n",
       "    </tr>\n",
       "  </thead>\n",
       "  <tbody>\n",
       "    <tr>\n",
       "      <th>2022-12-26</th>\n",
       "      <td>1</td>\n",
       "      <td>0.017552</td>\n",
       "      <td>0.073201</td>\n",
       "      <td>0.28127</td>\n",
       "      <td>0.627977</td>\n",
       "    </tr>\n",
       "  </tbody>\n",
       "</table>\n",
       "</div>"
      ],
      "text/plain": [
       "status      0 sum     3上升后期     4下降初期    5下降中期     6下降后期\n",
       "date                                                    \n",
       "2022-12-26      1  0.017552  0.073201  0.28127  0.627977"
      ]
     },
     "execution_count": 29,
     "metadata": {},
     "output_type": "execute_result"
    }
   ],
   "source": [
    "#covid progress\n",
    "\n",
    "def covid_status(s):\n",
    "    status=\"\"\n",
    "    if '上升至' in s:\n",
    "        s=s.replace('上升至','').replace('%','')\n",
    "        if int(s) <=50:\n",
    "            status='1上升初期'\n",
    "        elif 50< int(s) <=80:\n",
    "            status='2上升中期'\n",
    "        elif int(s)>80:\n",
    "            status='3上升后期'\n",
    "    if '回落至' in s:\n",
    "        s=s.replace('回落至','').replace('%','')\n",
    "        if int(s) <=50:\n",
    "            status='6下降后期'\n",
    "        elif 50< int(s) <=80:\n",
    "            status='5下降中期'\n",
    "        elif int(s)>80:\n",
    "            status='4下降初期'\n",
    "    return status\n",
    "\n",
    "df['status']=df['progress'].apply(covid_status)\n",
    "df['date']=thedate\n",
    "df\n",
    "\n",
    "\n",
    "pv_value=pd.pivot_table(df, values='常住人口', index=['date'],columns=[\"status\"], aggfunc=np.sum)\n",
    "\n",
    "pv_value=pv_value.div(pv_value.sum(axis=1), axis=0)\n",
    "pv_value['0 sum']=1\n",
    "# try:\n",
    "#     pv_value=pv_value[['sum','1上升初期', '2上升中期', '3上升后期', '4下降初期','5下降中期','6下降后期']]\n",
    "# except:\n",
    "#     pv_value=pv_value[['sum','1上升初期', '2上升中期', '3上升后期', '4下降初期','5下降中期']]\n",
    "\n",
    "pv_value=pv_value.fillna(0)\n",
    "pv_value=pv_value.sort_index(axis=1)\n",
    "pv_value.tail(22).to_clipboard(header=None)\n",
    "\n",
    "pv_value\n",
    "# pv_value.tail(3)"
   ]
  },
  {
   "cell_type": "code",
   "execution_count": 14,
   "metadata": {},
   "outputs": [],
   "source": []
  }
 ],
 "metadata": {
  "kernelspec": {
   "display_name": "Python 3",
   "language": "python",
   "name": "python3"
  },
  "language_info": {
   "codemirror_mode": {
    "name": "ipython",
    "version": 3
   },
   "file_extension": ".py",
   "mimetype": "text/x-python",
   "name": "python",
   "nbconvert_exporter": "python",
   "pygments_lexer": "ipython3",
   "version": "3.10.4"
  },
  "orig_nbformat": 4,
  "vscode": {
   "interpreter": {
    "hash": "e261ef090d81a4146804326fe048341ae181a2e90c498e25bece4d3ce4ed8c39"
   }
  }
 },
 "nbformat": 4,
 "nbformat_minor": 2
}
