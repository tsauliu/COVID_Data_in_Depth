{
 "cells": [
  {
   "cell_type": "code",
   "execution_count": 4,
   "metadata": {},
   "outputs": [
    {
     "name": "stdout",
     "output_type": "stream",
     "text": [
      "TJHospital 10.csv\n",
      "TJHospital 12.csv\n",
      "TJHospital 14.csv\n",
      "TJHospital 16.csv\n",
      "TJHospital 18.csv\n"
     ]
    }
   ],
   "source": [
    "import pandas as pd\n",
    "import re,os\n",
    "all=pd.DataFrame()\n",
    "for f in os.listdir('TJ_Hospital'):\n",
    "    print(f)\n",
    "\n",
    "    df=pd.read_csv(r'TJ_Hospital/'+f)\n",
    "    datestr=df.columns[0]\n",
    "\n",
    "    regex = r\"\\d*月\\d*日\\d*时\"\n",
    "    test_str = datestr\n",
    "    thedate=re.findall(regex,test_str)[0]\n",
    "\n",
    "    df.columns=['医院']\n",
    "    \n",
    "\n",
    "    import re \n",
    "    text='39.武清区人民医院候诊 12 人'\n",
    "    def getnum(s):\n",
    "        regex = r\"\\.(.*) (\\d*) 人\"\n",
    "        matches = re.findall(regex, s, re.MULTILINE)\n",
    "        try:\n",
    "        # print(matches[0][1])\n",
    "        # if True:\n",
    "            num=int(matches[0][1])\n",
    "            if num==0:\n",
    "                return '0人'\n",
    "            if 0<num<=10:\n",
    "                return '1 不到10人'\n",
    "            if 10<num<=20:\n",
    "                return '2 不到20人'\n",
    "            if 20<num:\n",
    "                return '3 大于20人'\n",
    "            \n",
    "        except:\n",
    "            return 'n/a'\n",
    "    df['waiting']=df['医院'].apply(getnum)\n",
    "    d=df.groupby(by='waiting').count().reset_index()\n",
    "    d['date']=thedate\n",
    "    # print(d)\n",
    "    all=pd.concat([all,d])\n",
    "show=pd.pivot_table(all,index='date',columns='waiting',values='医院',aggfunc=sum).reset_index()\n",
    "show=show.drop(columns=['n/a']).fillna(0)\n",
    "show.to_clipboard(index=False)"
   ]
  }
 ],
 "metadata": {
  "kernelspec": {
   "display_name": "Python 3",
   "language": "python",
   "name": "python3"
  },
  "language_info": {
   "codemirror_mode": {
    "name": "ipython",
    "version": 3
   },
   "file_extension": ".py",
   "mimetype": "text/x-python",
   "name": "python",
   "nbconvert_exporter": "python",
   "pygments_lexer": "ipython3",
   "version": "3.10.4 (tags/v3.10.4:9d38120, Mar 23 2022, 23:13:41) [MSC v.1929 64 bit (AMD64)]"
  },
  "orig_nbformat": 4,
  "vscode": {
   "interpreter": {
    "hash": "e261ef090d81a4146804326fe048341ae181a2e90c498e25bece4d3ce4ed8c39"
   }
  }
 },
 "nbformat": 4,
 "nbformat_minor": 2
}
