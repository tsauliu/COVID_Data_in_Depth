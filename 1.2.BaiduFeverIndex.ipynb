{
 "cells": [
  {
   "cell_type": "code",
   "execution_count": 7,
   "metadata": {},
   "outputs": [
    {
     "name": "stdout",
     "output_type": "stream",
     "text": [
      "2023-01-09\n"
     ]
    }
   ],
   "source": [
    "import warnings\n",
    "warnings.simplefilter(action='ignore')\n",
    "\n",
    "import pandas as pd\n",
    "import numpy as np\n",
    "\n",
    "# dated='2022-12-26'\n",
    "from datetime import datetime,timedelta\n",
    "thedate=datetime.strftime(datetime.today()-timedelta(days=1),\"%Y-%m-%d\")\n",
    "\n",
    "df=pd.read_csv(r'DataSource\\BaiduYiQingIndex\\baidu_yiqing_%s.csv' % thedate)\n",
    "\n",
    "def convertDate(s):\n",
    "    s=f'{s:.2f}'.replace('.','/')\n",
    "    if '12/' in s:\n",
    "        return '2022/'+s\n",
    "    else:\n",
    "        return '2023/'+s\n",
    "\n",
    "df['date_new']=df['date'].apply(convertDate)\n",
    "#TG daily wkbk update\n",
    "\n",
    "tablehead=pd.read_hdf('Processed_Data/bd_covid_index.h5',key='table_head')\n",
    "c1=df['type']=='百度疫情搜索指数'\n",
    "c2=df['date_new']>=\"2023/1/05\"\n",
    "df2=df[c1 & c2]\n",
    "df3=pd.pivot_table(df2,index='city',columns='date_new',aggfunc='mean',values='index').reset_index()\n",
    "show=tablehead.merge(df3,on='city',how='left')\n",
    "show.drop(columns='city').to_clipboard(index=False)\n",
    "\n",
    "print(thedate)\n"
   ]
  },
  {
   "cell_type": "code",
   "execution_count": 4,
   "metadata": {},
   "outputs": [],
   "source": [
    "c1=df['type']=='百度疫情搜索指数'\n",
    "ci=df[c1][['city','date_new','index']].rename(columns={'date_new':'date'})\n",
    "max=ci.groupby('city')['index'].max().reset_index()\n",
    "max=max.merge(ci,on=['city','index']).rename(columns={'index':'max','date':'peak'})\n",
    "ci=ci.merge(max,on='city',how='left')\n",
    "ci['progress_2']=(ci['index']/ci['max'])*100\n",
    "ci=ci.sort_values(by=['city','date'])\n",
    "ci=ci.groupby(by='city').tail(1)\n",
    "ci[['city','peak','progress_2']].to_hdf('Processed_Data/Baidu_covid_progress.h5',key='99city')"
   ]
  },
  {
   "cell_type": "code",
   "execution_count": 19,
   "metadata": {},
   "outputs": [],
   "source": [
    "# feverindex=df[c1][['city','date_new','index']]\n",
    "# feverindex.columns=['城市','date','BDfever']\n",
    "# feverindex.to_hdf(r'Processed_Data/BaiduFever.h5',key='1220')"
   ]
  }
 ],
 "metadata": {
  "kernelspec": {
   "display_name": "Python 3",
   "language": "python",
   "name": "python3"
  },
  "language_info": {
   "codemirror_mode": {
    "name": "ipython",
    "version": 3
   },
   "file_extension": ".py",
   "mimetype": "text/x-python",
   "name": "python",
   "nbconvert_exporter": "python",
   "pygments_lexer": "ipython3",
   "version": "3.10.4"
  },
  "orig_nbformat": 4,
  "vscode": {
   "interpreter": {
    "hash": "e261ef090d81a4146804326fe048341ae181a2e90c498e25bece4d3ce4ed8c39"
   }
  }
 },
 "nbformat": 4,
 "nbformat_minor": 2
}
