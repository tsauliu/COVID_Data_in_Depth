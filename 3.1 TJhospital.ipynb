{
 "cells": [
  {
   "cell_type": "code",
   "execution_count": 6,
   "metadata": {},
   "outputs": [
    {
     "data": {
      "text/html": [
       "<div>\n",
       "<style scoped>\n",
       "    .dataframe tbody tr th:only-of-type {\n",
       "        vertical-align: middle;\n",
       "    }\n",
       "\n",
       "    .dataframe tbody tr th {\n",
       "        vertical-align: top;\n",
       "    }\n",
       "\n",
       "    .dataframe thead th {\n",
       "        text-align: right;\n",
       "    }\n",
       "</style>\n",
       "<table border=\"1\" class=\"dataframe\">\n",
       "  <thead>\n",
       "    <tr style=\"text-align: right;\">\n",
       "      <th></th>\n",
       "      <th>waiting</th>\n",
       "      <th>医院</th>\n",
       "    </tr>\n",
       "  </thead>\n",
       "  <tbody>\n",
       "    <tr>\n",
       "      <th>0</th>\n",
       "      <td>0人</td>\n",
       "      <td>29</td>\n",
       "    </tr>\n",
       "    <tr>\n",
       "      <th>1</th>\n",
       "      <td>1 不到10人</td>\n",
       "      <td>24</td>\n",
       "    </tr>\n",
       "    <tr>\n",
       "      <th>2</th>\n",
       "      <td>2 不到20人</td>\n",
       "      <td>3</td>\n",
       "    </tr>\n",
       "    <tr>\n",
       "      <th>3</th>\n",
       "      <td>n/a</td>\n",
       "      <td>1</td>\n",
       "    </tr>\n",
       "  </tbody>\n",
       "</table>\n",
       "</div>"
      ],
      "text/plain": [
       "   waiting  医院\n",
       "0       0人  29\n",
       "1  1 不到10人  24\n",
       "2  2 不到20人   3\n",
       "3      n/a   1"
      ]
     },
     "execution_count": 6,
     "metadata": {},
     "output_type": "execute_result"
    }
   ],
   "source": [
    "import pandas as pd\n",
    "df=pd.read_csv(r'TJHospital.csv')\n",
    "\n",
    "\n",
    "import re \n",
    "text='39.武清区人民医院候诊 12 人'\n",
    "def getnum(s):\n",
    "    regex = r\"\\.(.*) (\\d*) 人\"\n",
    "    matches = re.findall(regex, s, re.MULTILINE)\n",
    "    try:\n",
    "    # print(matches[0][1])\n",
    "    # if True:\n",
    "        num=int(matches[0][1])\n",
    "        if num==0:\n",
    "            return '0人'\n",
    "        if 0<num<=10:\n",
    "            return '1 不到10人'\n",
    "        if 10<num<=20:\n",
    "            return '2 不到20人'\n",
    "        if 20<num:\n",
    "            return '3 大于20人'\n",
    "        \n",
    "    except:\n",
    "        return 'n/a'\n",
    "df['waiting']=df['医院'].apply(getnum)\n",
    "df.groupby(by='waiting').count().reset_index()['医院'].to_clipboard(header=None,index=False)\n",
    "\n",
    "df.groupby(by='waiting').count().reset_index()\n",
    "# getnum(text)"
   ]
  }
 ],
 "metadata": {
  "kernelspec": {
   "display_name": "Python 3",
   "language": "python",
   "name": "python3"
  },
  "language_info": {
   "codemirror_mode": {
    "name": "ipython",
    "version": 3
   },
   "file_extension": ".py",
   "mimetype": "text/x-python",
   "name": "python",
   "nbconvert_exporter": "python",
   "pygments_lexer": "ipython3",
   "version": "3.10.4 (tags/v3.10.4:9d38120, Mar 23 2022, 23:13:41) [MSC v.1929 64 bit (AMD64)]"
  },
  "orig_nbformat": 4,
  "vscode": {
   "interpreter": {
    "hash": "e261ef090d81a4146804326fe048341ae181a2e90c498e25bece4d3ce4ed8c39"
   }
  }
 },
 "nbformat": 4,
 "nbformat_minor": 2
}
