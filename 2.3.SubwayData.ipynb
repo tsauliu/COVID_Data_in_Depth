{
 "cells": [
  {
   "cell_type": "code",
   "execution_count": 2,
   "metadata": {},
   "outputs": [
    {
     "data": {
      "text/html": [
       "<div>\n",
       "<style scoped>\n",
       "    .dataframe tbody tr th:only-of-type {\n",
       "        vertical-align: middle;\n",
       "    }\n",
       "\n",
       "    .dataframe tbody tr th {\n",
       "        vertical-align: top;\n",
       "    }\n",
       "\n",
       "    .dataframe thead th {\n",
       "        text-align: right;\n",
       "    }\n",
       "</style>\n",
       "<table border=\"1\" class=\"dataframe\">\n",
       "  <thead>\n",
       "    <tr style=\"text-align: right;\">\n",
       "      <th></th>\n",
       "      <th>城市</th>\n",
       "      <th>date</th>\n",
       "      <th>subway</th>\n",
       "      <th>dt</th>\n",
       "      <th>subway_last7d_mean</th>\n",
       "      <th>subway_WoW</th>\n",
       "    </tr>\n",
       "  </thead>\n",
       "  <tbody>\n",
       "    <tr>\n",
       "      <th>97</th>\n",
       "      <td>长沙</td>\n",
       "      <td>2023-01-05</td>\n",
       "      <td>142.71</td>\n",
       "      <td>01-05</td>\n",
       "      <td>129.644286</td>\n",
       "      <td>0.601705</td>\n",
       "    </tr>\n",
       "    <tr>\n",
       "      <th>68</th>\n",
       "      <td>长沙</td>\n",
       "      <td>2023-01-06</td>\n",
       "      <td>156.14</td>\n",
       "      <td>01-06</td>\n",
       "      <td>134.114286</td>\n",
       "      <td>0.496143</td>\n",
       "    </tr>\n",
       "    <tr>\n",
       "      <th>39</th>\n",
       "      <td>长沙</td>\n",
       "      <td>2023-01-07</td>\n",
       "      <td>142.87</td>\n",
       "      <td>01-07</td>\n",
       "      <td>135.798571</td>\n",
       "      <td>0.361760</td>\n",
       "    </tr>\n",
       "  </tbody>\n",
       "</table>\n",
       "</div>"
      ],
      "text/plain": [
       "    城市        date  subway     dt  subway_last7d_mean  subway_WoW\n",
       "97  长沙  2023-01-05  142.71  01-05          129.644286    0.601705\n",
       "68  长沙  2023-01-06  156.14  01-06          134.114286    0.496143\n",
       "39  长沙  2023-01-07  142.87  01-07          135.798571    0.361760"
      ]
     },
     "execution_count": 2,
     "metadata": {},
     "output_type": "execute_result"
    }
   ],
   "source": [
    "# 1.Daily covid cases\n",
    "\n",
    "import warnings\n",
    "warnings.simplefilter(action='ignore')\n",
    "\n",
    "import pandas as pd\n",
    "import numpy as np\n",
    "import datetime\n",
    "\n",
    "df=pd.read_excel(r'./DataSource/DailyUpdateForTG.xlsx',skiprows=1,sheet_name=1)\n",
    "df['城市']=df['指标名称'].str.split(\":\").str[-1]\n",
    "df=df.drop(columns=['指标名称','单位','来源','更新时间'])\n",
    "df.to_hdf('Processed_Data/subway.h5',key='raw')\n",
    "\n",
    "subway=pd.read_hdf('Processed_Data/subway.h5',key='raw')\n",
    "subway=pd.melt(subway,id_vars=['城市'],var_name='date',value_name='subway')\n",
    "subway=subway[subway['subway']>0]\n",
    "\n",
    "subway['date'] = pd.to_datetime(subway['date']).dt.date\n",
    "subway=subway.sort_values(by=['城市','date'],ascending=True)\n",
    "subway['date']=subway['date'].astype('str')\n",
    "\n",
    "\n",
    "def getdt(d):\n",
    "    return str(d)[-5:]\n",
    "subway['dt']=subway['date'].apply(getdt)\n",
    "\n",
    "subway['subway_last7d_mean']=subway.groupby('城市')['subway'].transform(lambda x: x.rolling(7, 2).mean())\n",
    "subway['subway_WoW']=subway['subway_last7d_mean']/subway.groupby('城市')['subway_last7d_mean'].transform(lambda x: x.shift(periods=7)) -1\n",
    "\n",
    "c1=subway['date'].str.contains('2019')\n",
    "sw_19=subway[c1]\n",
    "sw_19=sw_19[['城市', 'dt','subway_last7d_mean']]\n",
    "sw_19=sw_19.rename(columns={'subway_last7d_mean':'subway_19_rolling_mean'})\n",
    "\n",
    "c2=subway['date'].str.contains('2022|2023')\n",
    "sw_22=subway[c2]\n",
    "sw_22=sw_22.merge(sw_19,how='left',on=['城市','dt'])\n",
    "\n",
    "sw_22['subway_status']=sw_22['subway_last7d_mean']/sw_22['subway_19_rolling_mean']\n",
    "\n",
    "\n",
    "\n",
    "subway.tail(3)"
   ]
  },
  {
   "cell_type": "code",
   "execution_count": 3,
   "metadata": {},
   "outputs": [
    {
     "name": "stdout",
     "output_type": "stream",
     "text": [
      "2023-01-07\n"
     ]
    }
   ],
   "source": [
    "# WoW vs. COVID\n",
    "%load_ext autoreload\n",
    "%autoreload 2\n",
    "from colored_list import dafeng_city,jidui_city,riqi\n",
    "riqi='2023-01-07'\n",
    "\n",
    "df_covid=pd.read_hdf('Processed_Data/Baidu_covid_progress.h5',key='raw')\n",
    "o=sw_22.merge(df_covid,on='城市',how='left')\n",
    "\n",
    "\n",
    "o=o[o['date']==riqi][o['subway_WoW']<1][['城市','progress_2','subway_WoW']] \n",
    "\n",
    "o['size']=np.nan\n",
    "o['group']='其他'\n",
    "\n",
    "c1=o['城市'].isin(dafeng_city)\n",
    "o.loc[c1,'group']='本波疫情基本结束'\n",
    "\n",
    "o=o.sort_values(by='group',ascending=False)\n",
    "o.to_clipboard(index=False,header=None)\n",
    "print(riqi)"
   ]
  },
  {
   "cell_type": "code",
   "execution_count": 10,
   "metadata": {},
   "outputs": [
    {
     "name": "stdout",
     "output_type": "stream",
     "text": [
      "2023-01-07\n"
     ]
    }
   ],
   "source": [
    "# as of 2019 vs. COVID\n",
    "\n",
    "df_covid=pd.read_hdf('Processed_Data/Baidu_covid_progress.h5',key='raw')\n",
    "o=sw_22.merge(df_covid,on='城市',how='left')\n",
    "\n",
    "o=o[o['subway_status']<1.5][sw_22['date']==riqi]\n",
    "\n",
    "o=o[['城市','progress_2','subway_status']] \n",
    "\n",
    "o['size']=np.nan\n",
    "o['group']='其他'\n",
    "\n",
    "c1=o['城市'].isin(dafeng_city)\n",
    "o.loc[c1,'group']='本波疫情基本结束'\n",
    "\n",
    "o=o.sort_values(by='group',ascending=False)\n",
    "o.to_clipboard(index=False,header=None)\n",
    "\n",
    "d=sw_22[sw_22['date']==riqi][['城市','date','subway_status']].reset_index(drop=True).rename(columns={'subway_status':'subway'})\n",
    "d['date']=pd.to_datetime(d['date'])\n",
    "d.to_hdf('Processed_Data/city_compare.h5',key='subway')\n",
    "\n",
    "print(riqi)"
   ]
  },
  {
   "cell_type": "code",
   "execution_count": 11,
   "metadata": {},
   "outputs": [
    {
     "name": "stdout",
     "output_type": "stream",
     "text": [
      "2023-01-07\n"
     ]
    }
   ],
   "source": [
    "# 2.2 WoW vs. GDP\n",
    "city_popu=pd.read_hdf('Processed_Data/citypopu.h5',key='raw2')\n",
    "o=sw_22.merge(city_popu,on='城市',how='left')\n",
    "\n",
    "o=o[o['date']==riqi][['城市','GDP','subway_WoW']] \n",
    "\n",
    "o['size']=np.nan\n",
    "o['group']='其他'\n",
    "\n",
    "c1=o['城市'].isin(dafeng_city)\n",
    "o.loc[c1,'group']='本波疫情基本结束'\n",
    "\n",
    "o=o.sort_values(by='group',ascending=False)\n",
    "o.to_clipboard(index=False,header=None)\n",
    "print(riqi)"
   ]
  },
  {
   "cell_type": "code",
   "execution_count": 12,
   "metadata": {},
   "outputs": [
    {
     "name": "stdout",
     "output_type": "stream",
     "text": [
      "2023-01-07\n"
     ]
    }
   ],
   "source": [
    "# 2.2 as of 2019 vs. GDP\n",
    "city_popu=pd.read_hdf('Processed_Data/citypopu.h5',key='raw2')\n",
    "o=sw_22.merge(city_popu,on='城市',how='left')\n",
    "\n",
    "o=o[o['subway_status']<2][sw_22['date']==riqi]\n",
    "o=o[['城市','GDP','subway_status']] \n",
    "\n",
    "o['size']=np.nan\n",
    "o['group']='其他'\n",
    "\n",
    "c1=o['城市'].isin(dafeng_city)\n",
    "o.loc[c1,'group']='本波疫情基本结束'\n",
    "\n",
    "o=o.sort_values(by='group',ascending=False)\n",
    "o.to_clipboard(index=False,header=None)\n",
    "print(riqi)"
   ]
  },
  {
   "cell_type": "code",
   "execution_count": 16,
   "metadata": {},
   "outputs": [],
   "source": [
    "#TY copy to wkbk\n",
    "# d1=pd.read_clipboard()\n",
    "# d1.to_hdf('Processed_Data/tablehead.h5','subway')\n",
    "\n",
    "d1=pd.read_hdf('Processed_Data/tablehead.h5','subway')\n",
    "wkbk=pd.pivot_table(subway[subway['date']>'2023-01-03'],index='城市',columns='date',values='subway',aggfunc='mean').reset_index()\n",
    "d1.merge(wkbk,how='left',on='城市').drop(columns=['城市']).to_clipboard(index=False)"
   ]
  },
  {
   "cell_type": "code",
   "execution_count": null,
   "metadata": {},
   "outputs": [],
   "source": [
    "# #TG update\n",
    "\n",
    "# list_tokeep='上海,深圳,广州,成都,西安,北京,苏州,重庆,武汉,郑州,南京'.split(',') #南京\n",
    "# s1=subway['城市'].isin(list_tokeep)\n",
    "# df=subway[s1].groupby(by='date').sum().reset_index()\n",
    "# df2=subway[s1].groupby(by='date').count().reset_index()\n",
    "# df['subway_7dbefore']=df['subway'].shift(periods=7)\n",
    "# df['subway_wow']=df['subway']/df['subway'].shift(periods=7) -1\n",
    "\n",
    "# df['date']=pd.to_datetime(df['date'])\n",
    "\n",
    "# df['weekday']=df['date'].dt.strftime('%A')\n",
    "\n",
    "# df['workday']=np.nan\n",
    "# df['weekend']=np.nan\n",
    "\n",
    "# c1=df['weekday'].isin(['Saturday','Sunday'])\n",
    "\n",
    "# df.loc[~c1,'workday']=df['subway']\n",
    "# df.loc[c1,'weekend']=df['subway']\n",
    "\n",
    "# df['sum']=np.nan\n",
    "\n",
    "# df=df[['date','sum','subway_wow','weekend','workday']]\n",
    "\n",
    "# df=df.sort_values(by='date')\n",
    "# df.tail(31).to_clipboard(index=False,header=None)\n",
    "# print(df.tail(10))\n",
    "# print(df2.tail(5))"
   ]
  }
 ],
 "metadata": {
  "kernelspec": {
   "display_name": "Python 3",
   "language": "python",
   "name": "python3"
  },
  "language_info": {
   "codemirror_mode": {
    "name": "ipython",
    "version": 3
   },
   "file_extension": ".py",
   "mimetype": "text/x-python",
   "name": "python",
   "nbconvert_exporter": "python",
   "pygments_lexer": "ipython3",
   "version": "3.10.4"
  },
  "orig_nbformat": 4,
  "vscode": {
   "interpreter": {
    "hash": "e261ef090d81a4146804326fe048341ae181a2e90c498e25bece4d3ce4ed8c39"
   }
  }
 },
 "nbformat": 4,
 "nbformat_minor": 2
}
