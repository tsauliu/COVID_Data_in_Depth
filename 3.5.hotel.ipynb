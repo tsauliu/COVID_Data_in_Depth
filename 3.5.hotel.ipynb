{
 "cells": [
  {
   "cell_type": "code",
   "execution_count": 17,
   "metadata": {},
   "outputs": [],
   "source": [
    "import pandas as pd\n",
    "import warnings\n",
    "warnings.simplefilter(action='ignore')\n",
    "import numpy as np\n",
    "\n",
    "import os\n",
    "dfo=pd.DataFrame()\n",
    "\n",
    "for f in os.listdir('./DataSource/Huazhu/'):\n",
    "    print(f)\n",
    "    date=f.split('_')[-1].split('.')[0]\n",
    "    d=pd.read_csv('./DataSource/Huazhu\\%s' % f)\n",
    "    d['date']=date\n",
    "    dfo=pd.concat([dfo,d],axis=0)\n",
    "\n",
    "old=pd.read_hdf(r'Processed_Data/hotel.h5',key='0105')\n",
    "new=pd.concat([old,dfo])\n",
    "new=new.drop_duplicates()\n",
    "new.to_hdf(r'Processed_Data/hotel.h5',key='0105')"
   ]
  },
  {
   "cell_type": "code",
   "execution_count": 59,
   "metadata": {},
   "outputs": [
    {
     "data": {
      "text/html": [
       "<div>\n",
       "<style scoped>\n",
       "    .dataframe tbody tr th:only-of-type {\n",
       "        vertical-align: middle;\n",
       "    }\n",
       "\n",
       "    .dataframe tbody tr th {\n",
       "        vertical-align: top;\n",
       "    }\n",
       "\n",
       "    .dataframe thead th {\n",
       "        text-align: right;\n",
       "    }\n",
       "</style>\n",
       "<table border=\"1\" class=\"dataframe\">\n",
       "  <thead>\n",
       "    <tr style=\"text-align: right;\">\n",
       "      <th>checkInType</th>\n",
       "      <th>date</th>\n",
       "      <th>cityName</th>\n",
       "      <th>future</th>\n",
       "      <th>now</th>\n",
       "      <th>bookedNights</th>\n",
       "      <th>city_occ</th>\n",
       "    </tr>\n",
       "  </thead>\n",
       "  <tbody>\n",
       "    <tr>\n",
       "      <th>0</th>\n",
       "      <td>2022-06-07</td>\n",
       "      <td>万宁</td>\n",
       "      <td>67.0</td>\n",
       "      <td>20.0</td>\n",
       "      <td>47.0</td>\n",
       "      <td>0.701493</td>\n",
       "    </tr>\n",
       "    <tr>\n",
       "      <th>1</th>\n",
       "      <td>2022-06-07</td>\n",
       "      <td>三亚</td>\n",
       "      <td>529.0</td>\n",
       "      <td>241.0</td>\n",
       "      <td>288.0</td>\n",
       "      <td>0.544423</td>\n",
       "    </tr>\n",
       "    <tr>\n",
       "      <th>2</th>\n",
       "      <td>2022-06-07</td>\n",
       "      <td>三原县</td>\n",
       "      <td>79.0</td>\n",
       "      <td>32.0</td>\n",
       "      <td>47.0</td>\n",
       "      <td>0.594937</td>\n",
       "    </tr>\n",
       "    <tr>\n",
       "      <th>3</th>\n",
       "      <td>2022-06-07</td>\n",
       "      <td>三明</td>\n",
       "      <td>145.0</td>\n",
       "      <td>90.0</td>\n",
       "      <td>55.0</td>\n",
       "      <td>0.379310</td>\n",
       "    </tr>\n",
       "    <tr>\n",
       "      <th>4</th>\n",
       "      <td>2022-06-07</td>\n",
       "      <td>三河</td>\n",
       "      <td>154.0</td>\n",
       "      <td>54.0</td>\n",
       "      <td>100.0</td>\n",
       "      <td>0.649351</td>\n",
       "    </tr>\n",
       "    <tr>\n",
       "      <th>...</th>\n",
       "      <td>...</td>\n",
       "      <td>...</td>\n",
       "      <td>...</td>\n",
       "      <td>...</td>\n",
       "      <td>...</td>\n",
       "      <td>...</td>\n",
       "    </tr>\n",
       "    <tr>\n",
       "      <th>147653</th>\n",
       "      <td>2023-01-03</td>\n",
       "      <td>龙口</td>\n",
       "      <td>212.0</td>\n",
       "      <td>120.0</td>\n",
       "      <td>92.0</td>\n",
       "      <td>0.433962</td>\n",
       "    </tr>\n",
       "    <tr>\n",
       "      <th>147654</th>\n",
       "      <td>2023-01-03</td>\n",
       "      <td>龙岩</td>\n",
       "      <td>250.0</td>\n",
       "      <td>168.0</td>\n",
       "      <td>82.0</td>\n",
       "      <td>0.328000</td>\n",
       "    </tr>\n",
       "    <tr>\n",
       "      <th>147655</th>\n",
       "      <td>2023-01-03</td>\n",
       "      <td>龙泉</td>\n",
       "      <td>112.0</td>\n",
       "      <td>63.0</td>\n",
       "      <td>49.0</td>\n",
       "      <td>0.437500</td>\n",
       "    </tr>\n",
       "    <tr>\n",
       "      <th>147656</th>\n",
       "      <td>2023-01-03</td>\n",
       "      <td>龙港</td>\n",
       "      <td>214.0</td>\n",
       "      <td>89.0</td>\n",
       "      <td>125.0</td>\n",
       "      <td>0.584112</td>\n",
       "    </tr>\n",
       "    <tr>\n",
       "      <th>147657</th>\n",
       "      <td>2023-01-03</td>\n",
       "      <td>龙游县</td>\n",
       "      <td>341.0</td>\n",
       "      <td>222.0</td>\n",
       "      <td>119.0</td>\n",
       "      <td>0.348974</td>\n",
       "    </tr>\n",
       "  </tbody>\n",
       "</table>\n",
       "<p>147658 rows × 6 columns</p>\n",
       "</div>"
      ],
      "text/plain": [
       "checkInType        date cityName  future    now  bookedNights  city_occ\n",
       "0            2022-06-07       万宁    67.0   20.0          47.0  0.701493\n",
       "1            2022-06-07       三亚   529.0  241.0         288.0  0.544423\n",
       "2            2022-06-07      三原县    79.0   32.0          47.0  0.594937\n",
       "3            2022-06-07       三明   145.0   90.0          55.0  0.379310\n",
       "4            2022-06-07       三河   154.0   54.0         100.0  0.649351\n",
       "...                 ...      ...     ...    ...           ...       ...\n",
       "147653       2023-01-03       龙口   212.0  120.0          92.0  0.433962\n",
       "147654       2023-01-03       龙岩   250.0  168.0          82.0  0.328000\n",
       "147655       2023-01-03       龙泉   112.0   63.0          49.0  0.437500\n",
       "147656       2023-01-03       龙港   214.0   89.0         125.0  0.584112\n",
       "147657       2023-01-03      龙游县   341.0  222.0         119.0  0.348974\n",
       "\n",
       "[147658 rows x 6 columns]"
      ]
     },
     "execution_count": 59,
     "metadata": {},
     "output_type": "execute_result"
    }
   ],
   "source": [
    "d=dfo.copy()\n",
    "c1=d['brandLevel'].isin(['经济型','舒适型'])\n",
    "d=d[c1][['date','cityId', 'cityName', 'brandLevel', 'hotelId', 'hotelName', 'roomName','checkInType', 'stock']]\n",
    "d['checkInType']=d['checkInType'].replace('later','future')\n",
    "d1=d.groupby(by=['date','cityName', 'brandLevel','hotelName','checkInType','roomName']).mean().reset_index()\n",
    "d1=d1.groupby(by=['date','cityName', 'brandLevel','checkInType','hotelName']).sum().reset_index()\n",
    "pv=pd.pivot_table(d1,index=['date','cityName','hotelName'],values='stock',columns='checkInType', aggfunc=np.sum).reset_index()\n",
    "pv=pv[~pv['now'].isna()]\n",
    "pv=pv[~pv['future'].isna()]\n",
    "pv['bookedNights']=pv['future']-pv['now']\n",
    "pv['hotel_occ']=pv['bookedNights']/pv['future']\n",
    "c2=pv['now']>5\n",
    "c3=pv['hotel_occ']<0.9\n",
    "\n",
    "pv2=pv[c2&c3]\n",
    "pv2=pv2.groupby(by=['date','cityName']).sum().reset_index()\n",
    "pv2['city_occ']=pv2['bookedNights']/pv2['future']\n",
    "pv2=pv2.drop(columns='hotel_occ')\n",
    "\n",
    "pv2"
   ]
  },
  {
   "cell_type": "code",
   "execution_count": 99,
   "metadata": {},
   "outputs": [],
   "source": [
    "#prepare DF\n",
    "hotel=pv2\n",
    "hotel['date']=pd.to_datetime(hotel['date'])\n",
    "hotel['cityName']=hotel['cityName'].str.replace('市','')\n",
    "\n",
    "hotel1=hotel.sort_values(by=['cityName','date'])\n",
    "hotel1['bookedNights_last7d_mean']=hotel1.groupby('cityName')['bookedNights'].transform(lambda x: x.rolling(7, 7).mean())\n",
    "hotel1['bookedNights_change_WoW']=(hotel1['bookedNights_last7d_mean']/hotel1.groupby('cityName')['bookedNights_last7d_mean'].transform(lambda x: x.shift(periods=7)))-1\n",
    "\n",
    "c1=hotel1['date'].astype('str')< '2022-07-01'\n",
    "c2=hotel1['bookedNights']>0\n",
    "june_mean=hotel1[c1&c2].groupby('cityName').mean().reset_index().sort_values(by='bookedNights')[['cityName','bookedNights']].reset_index(drop=True)\n",
    "june_mean.columns=['cityName', 'bookedNights_june']\n",
    "\n",
    "hotel1=hotel1.merge(june_mean,on='cityName')\n",
    "hotel1['changes_since_june']=hotel1['bookedNights_last7d_mean']/hotel1['bookedNights_june']\n",
    "\n",
    "#occ changes\n",
    "hotel1['city_occ_last7d_mean']=hotel1.groupby('cityName')['city_occ'].transform(lambda x: x.rolling(7, 7).mean())\n",
    "hotel1['city_occ_change_WoW']=(hotel1['city_occ_last7d_mean']/hotel1.groupby('cityName')['city_occ_last7d_mean'].transform(lambda x: x.shift(periods=7)))-1\n",
    "\n",
    "c1=hotel1['date'].astype('str')< '2022-07-01'\n",
    "c2=hotel1['bookedNights']>0\n",
    "june_mean_occ=hotel1[c1&c2].groupby('cityName').mean().reset_index()[['cityName','city_occ']].reset_index(drop=True)\n",
    "june_mean_occ.columns=['cityName', 'occ_june']\n",
    "\n",
    "hotel1=hotel1.merge(june_mean_occ,on='cityName')\n",
    "\n",
    "hotel1['changes_since_june_occ']=hotel1['city_occ_last7d_mean']/hotel1['occ_june']\n"
   ]
  },
  {
   "cell_type": "code",
   "execution_count": 98,
   "metadata": {},
   "outputs": [
    {
     "data": {
      "text/plain": [
       "<AxesSubplot: >"
      ]
     },
     "execution_count": 98,
     "metadata": {},
     "output_type": "execute_result"
    },
    {
     "data": {
      "image/png": "[encoded data removed]",
      "text/plain": [
       "<Figure size 1440x360 with 2 Axes>"
      ]
     },
     "metadata": {
      "needs_background": "light"
     },
     "output_type": "display_data"
    }
   ],
   "source": [
    "dfp=hotel1[hotel1['cityName']=='北京']\n",
    "ax = dfp.plot('date','bookedNights_last7d_mean')\n",
    "dfp.plot('date','city_occ_last7d_mean',secondary_y=True, ax=ax, figsize=(20,5))"
   ]
  },
  {
   "cell_type": "code",
   "execution_count": 53,
   "metadata": {},
   "outputs": [
    {
     "name": "stdout",
     "output_type": "stream",
     "text": [
      "The autoreload extension is already loaded. To reload it, use:\n",
      "  %reload_ext autoreload\n",
      "2023-01-03\n"
     ]
    }
   ],
   "source": [
    "# covid rank vs. hotel nights WoW\n",
    "%load_ext autoreload\n",
    "%autoreload 2\n",
    "from colored_list import dafeng_city,jidui_city,riqi\n",
    "# riqi='2022-12-29'\n",
    "\n",
    "df_covid=pd.read_hdf('Processed_Data/Baidu_covid_progress.h5',key='raw')\n",
    "\n",
    "hotel2=hotel1.merge(df_covid,left_on=['cityName'],right_on=['城市'],how='left')\n",
    "\n",
    "hotel2['date']=hotel2['date'].astype('string')\n",
    "hotel2=hotel2[hotel2['date']==riqi].sort_values(by='bookedNights_last7d_mean',ascending=False)\n",
    "hotel2=hotel2[hotel2['bookedNights_change_WoW']<2].head(70).reset_index()\n",
    "\n",
    "o=hotel2[['cityName',  'progress_2','bookedNights_change_WoW']]\n",
    "\n",
    "\n",
    "o['size']=np.nan\n",
    "o['group']='其他'\n",
    "\n",
    "c1=o['cityName'].isin(dafeng_city)\n",
    "o.loc[c1,'group']='较早达峰'\n",
    "\n",
    "o=o.sort_values(by='group',ascending=False)\n",
    "\n",
    "o.to_clipboard(index=False,header=None)\n",
    "print(riqi)"
   ]
  },
  {
   "cell_type": "code",
   "execution_count": 54,
   "metadata": {},
   "outputs": [
    {
     "name": "stdout",
     "output_type": "stream",
     "text": [
      "2023-01-03\n"
     ]
    }
   ],
   "source": [
    "# covid rank vs. hotel nights vs 202206\n",
    "\n",
    "df_covid=pd.read_hdf('Processed_Data/Baidu_covid_progress.h5',key='raw')\n",
    "\n",
    "hotel2=hotel1.merge(df_covid,left_on=['cityName'],right_on=['城市'],how='left')\n",
    "\n",
    "hotel2['date']=hotel2['date'].astype('string')\n",
    "hotel2=hotel2[hotel2['date']==riqi].sort_values(by='bookedNights_last7d_mean',ascending=False)\n",
    "hotel2=hotel2[hotel2['changes_since_june']<2].head(70).reset_index()\n",
    "\n",
    "o=hotel2[['cityName',  'progress_2','changes_since_june']]\n",
    "\n",
    "\n",
    "o['size']=np.nan\n",
    "o['group']='其他'\n",
    "\n",
    "c1=o['cityName'].isin(dafeng_city)\n",
    "o.loc[c1,'group']='较早达峰'\n",
    "\n",
    "o=o.sort_values(by='group',ascending=False)\n",
    "\n",
    "o.to_clipboard(index=False,header=None)\n",
    "print(riqi)\n",
    "\n",
    "d=hotel1[hotel1['date']==riqi][['cityName','date','changes_since_june']].reset_index(drop=True).rename(columns={'cityName':'城市','changes_since_june':'hotel'})\n",
    "d['date']=pd.to_datetime(d['date'])\n",
    "d.to_hdf('Processed_Data/city_compare.h5',key='hotel')\n",
    "# d"
   ]
  },
  {
   "cell_type": "code",
   "execution_count": 13,
   "metadata": {},
   "outputs": [
    {
     "name": "stdout",
     "output_type": "stream",
     "text": [
      "2023-01-03\n"
     ]
    }
   ],
   "source": [
    "# GDP vs. hotel nights WoW\n",
    "\n",
    "city_popu=pd.read_hdf('Processed_Data/citypopu.h5',key='raw2')\n",
    "\n",
    "hotel2=hotel1.merge(city_popu,left_on=['cityName'],right_on=['城市'],how='left')\n",
    "\n",
    "hotel2['date']=hotel2['date'].astype('string')\n",
    "hotel2=hotel2[hotel2['date']==riqi].sort_values(by='bookedNights_last7d_mean',ascending=False)\n",
    "hotel2=hotel2[hotel2['bookedNights_change_WoW']<2].head(70).reset_index()\n",
    "\n",
    "o=hotel2[['cityName',  'GDP','bookedNights_change_WoW']]\n",
    "\n",
    "\n",
    "o['size']=np.nan\n",
    "o['group']='其他'\n",
    "\n",
    "c1=o['cityName'].isin(dafeng_city)\n",
    "o.loc[c1,'group']='较早达峰'\n",
    "\n",
    "o=o.sort_values(by='group',ascending=False)\n",
    "\n",
    "o.to_clipboard(index=False,header=None)\n",
    "print(riqi)"
   ]
  },
  {
   "cell_type": "code",
   "execution_count": 89,
   "metadata": {},
   "outputs": [
    {
     "name": "stdout",
     "output_type": "stream",
     "text": [
      "2023-01-03\n"
     ]
    }
   ],
   "source": [
    "# GDP vs. hotel nights vs 202206\n",
    "\n",
    "city_popu=pd.read_hdf('Processed_Data/citypopu.h5',key='raw2')\n",
    "\n",
    "hotel2=hotel1.merge(city_popu,left_on=['cityName'],right_on=['城市'],how='left')\n",
    "\n",
    "hotel2['date']=hotel2['date'].astype('string')\n",
    "hotel2=hotel2[hotel2['date']==riqi].sort_values(by='bookedNights_last7d_mean',ascending=False)\n",
    "hotel2=hotel2[hotel2['changes_since_june_occ']<2].head(70).reset_index()\n",
    "\n",
    "o=hotel2[['cityName',  'GDP','changes_since_june']]\n",
    "\n",
    "\n",
    "o['size']=np.nan\n",
    "o['group']='其他'\n",
    "\n",
    "c1=o['cityName'].isin(dafeng_city)\n",
    "o.loc[c1,'group']='较早达峰'\n",
    "\n",
    "o=o.sort_values(by='group',ascending=False)\n",
    "\n",
    "o.to_clipboard(index=False,header=None)\n",
    "print(riqi)"
   ]
  },
  {
   "cell_type": "code",
   "execution_count": 13,
   "metadata": {},
   "outputs": [],
   "source": [
    "d1=pd.read_clipboard()\n",
    "d2=pd.pivot_table(new[new['date']>'2022-12-28'],index='cityName',columns='date',values='bookedNights',aggfunc='sum').reset_index()\n",
    "d1.merge(d2,left_on='城市',right_on='cityName',how='left').to_clipboard(index=False)"
   ]
  }
 ],
 "metadata": {
  "kernelspec": {
   "display_name": "Python 3",
   "language": "python",
   "name": "python3"
  },
  "language_info": {
   "codemirror_mode": {
    "name": "ipython",
    "version": 3
   },
   "file_extension": ".py",
   "mimetype": "text/x-python",
   "name": "python",
   "nbconvert_exporter": "python",
   "pygments_lexer": "ipython3",
   "version": "3.10.4"
  },
  "orig_nbformat": 4,
  "vscode": {
   "interpreter": {
    "hash": "e261ef090d81a4146804326fe048341ae181a2e90c498e25bece4d3ce4ed8c39"
   }
  }
 },
 "nbformat": 4,
 "nbformat_minor": 2
}
