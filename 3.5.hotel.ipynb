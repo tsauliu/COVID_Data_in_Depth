{
 "cells": [
  {
   "cell_type": "code",
   "execution_count": 2,
   "metadata": {},
   "outputs": [
    {
     "name": "stdout",
     "output_type": "stream",
     "text": [
      "huazhu_stock_2023-01-02.csv\n",
      "huazhu_stock_2023-01-03.csv\n"
     ]
    }
   ],
   "source": [
    "import pandas as pd\n",
    "import warnings\n",
    "warnings.simplefilter(action='ignore')\n",
    "import numpy as np\n",
    "\n",
    "import os\n",
    "dfo=pd.DataFrame()\n",
    "\n",
    "for f in os.listdir('./DataSource/Huazhu/'):\n",
    "    print(f)\n",
    "    date=f.split('_')[-1].split('.')[0]\n",
    "    d=pd.read_csv('./DataSource/Huazhu\\%s' % f)\n",
    "\n",
    "\n",
    "    c1=d['brandLevel'].isin(['经济型','舒适型'])\n",
    "\n",
    "    d1=d[c1][['cityId', 'cityName', 'brandLevel', 'hotelId', 'hotelName', 'roomName','checkInType', 'stock']]\n",
    "    d1=d1.groupby(by=['cityName', 'brandLevel','hotelName','checkInType','roomName']).mean().reset_index()\n",
    "    d1=d1.groupby(by=['cityName', 'brandLevel','checkInType','hotelName']).sum().reset_index()\n",
    "    # pv=pd.pivot_table(d1,index='cityName',values='stock',columns='checkInType', aggfunc=np.sum).reset_index()\n",
    "    pv=pd.pivot_table(d1,index=['cityName','hotelName'],values='stock',columns='checkInType', aggfunc=np.sum).reset_index()\n",
    "    pv=pv[~pv['now'].isna()]\n",
    "    pv=pv[~pv['future'].isna()]\n",
    "    \n",
    "    pv['bookedNights']=pv['future']-pv['now']\n",
    "    pv['hotel_occ']=pv['bookedNights']/pv['future']\n",
    "    \n",
    "    c2=pv['now']>5\n",
    "    c3=pv['hotel_occ']<0.9\n",
    "\n",
    "    pv=pv[c2&c3]\n",
    "\n",
    "    pv=pv.groupby(by='cityName').sum().reset_index()\n",
    "    pv['city_occ']=pv['bookedNights']/pv['future']\n",
    "    pv['date']=date\n",
    "\n",
    "    dfo=pd.concat([dfo,pv],axis=0)\n",
    "\n",
    "old=pd.read_hdf(r'Processed_Data/hotel.h5',key='1223')\n",
    "new=pd.concat([old,dfo])\n",
    "new=new.drop_duplicates()\n",
    "new.to_hdf(r'Processed_Data/hotel.h5',key='1223')"
   ]
  },
  {
   "cell_type": "code",
   "execution_count": null,
   "metadata": {},
   "outputs": [],
   "source": []
  },
  {
   "cell_type": "code",
   "execution_count": 11,
   "metadata": {},
   "outputs": [],
   "source": [
    "#prepare DF\n",
    "hotel=dfo.copy()\n",
    "hotel['date']=pd.to_datetime(hotel['date'])\n",
    "hotel['cityName']=hotel['cityName'].str.replace('市','')\n",
    "\n",
    "hotel1=hotel.sort_values(by=['cityName','date'])\n",
    "hotel1['bookedNights_last7d_mean']=hotel1.groupby('cityName')['bookedNights'].transform(lambda x: x.rolling(7, 7).mean())\n",
    "hotel1['bookedNights_change_WoW']=(hotel1['bookedNights_last7d_mean']/hotel1.groupby('cityName')['bookedNights_last7d_mean'].transform(lambda x: x.shift(periods=7)))-1\n",
    "\n",
    "c1=hotel1['date'].astype('str')< '2022-07-01'\n",
    "c2=hotel1['bookedNights']>0\n",
    "june_mean=hotel1[c1&c2].groupby('cityName').mean().reset_index().sort_values(by='bookedNights')[['cityName','bookedNights']].reset_index(drop=True)\n",
    "june_mean.columns=['cityName', 'bookedNights_june']\n",
    "\n",
    "hotel1=hotel1.merge(june_mean,on='cityName')\n",
    "hotel1['changes_since_june']=hotel1['bookedNights_last7d_mean']/hotel1['bookedNights_june']"
   ]
  },
  {
   "cell_type": "code",
   "execution_count": 9,
   "metadata": {},
   "outputs": [
    {
     "name": "stdout",
     "output_type": "stream",
     "text": [
      "The autoreload extension is already loaded. To reload it, use:\n",
      "  %reload_ext autoreload\n",
      "2023-01-03\n"
     ]
    }
   ],
   "source": [
    "# covid rank vs. hotel nights WoW\n",
    "%load_ext autoreload\n",
    "%autoreload 2\n",
    "from colored_list import dafeng_city,jidui_city,riqi\n",
    "# riqi='2022-12-29'\n",
    "\n",
    "df_covid=pd.read_hdf('Processed_Data/Baidu_covid_progress.h5',key='raw')\n",
    "\n",
    "hotel2=hotel1.merge(df_covid,left_on=['cityName'],right_on=['城市'],how='left')\n",
    "\n",
    "hotel2['date']=hotel2['date'].astype('string')\n",
    "hotel2=hotel2[hotel2['date']==riqi].sort_values(by='bookedNights_last7d_mean',ascending=False)\n",
    "hotel2=hotel2[hotel2['bookedNights_change_WoW']<2].head(70).reset_index()\n",
    "\n",
    "o=hotel2[['cityName',  'progress_2','bookedNights_change_WoW']]\n",
    "\n",
    "\n",
    "o['size']=np.nan\n",
    "o['group']='其他'\n",
    "\n",
    "c1=o['cityName'].isin(dafeng_city)\n",
    "o.loc[c1,'group']='较早达峰'\n",
    "\n",
    "o=o.sort_values(by='group',ascending=False)\n",
    "\n",
    "o.to_clipboard(index=False,header=None)\n",
    "print(riqi)"
   ]
  },
  {
   "cell_type": "code",
   "execution_count": 12,
   "metadata": {},
   "outputs": [
    {
     "name": "stdout",
     "output_type": "stream",
     "text": [
      "2023-01-03\n"
     ]
    }
   ],
   "source": [
    "# covid rank vs. hotel nights vs 202206\n",
    "\n",
    "df_covid=pd.read_hdf('Processed_Data/Baidu_covid_progress.h5',key='raw')\n",
    "\n",
    "hotel2=hotel1.merge(df_covid,left_on=['cityName'],right_on=['城市'],how='left')\n",
    "\n",
    "hotel2['date']=hotel2['date'].astype('string')\n",
    "hotel2=hotel2[hotel2['date']==riqi].sort_values(by='bookedNights_last7d_mean',ascending=False)\n",
    "hotel2=hotel2[hotel2['changes_since_june']<2].head(70).reset_index()\n",
    "\n",
    "o=hotel2[['cityName',  'progress_2','changes_since_june']]\n",
    "\n",
    "\n",
    "o['size']=np.nan\n",
    "o['group']='其他'\n",
    "\n",
    "c1=o['cityName'].isin(dafeng_city)\n",
    "o.loc[c1,'group']='较早达峰'\n",
    "\n",
    "o=o.sort_values(by='group',ascending=False)\n",
    "\n",
    "o.to_clipboard(index=False,header=None)\n",
    "print(riqi)\n",
    "\n",
    "d=hotel1[hotel1['date']==riqi][['cityName','date','changes_since_june']].reset_index(drop=True).rename(columns={'cityName':'城市','changes_since_june':'hotel'})\n",
    "d['date']=pd.to_datetime(d['date'])\n",
    "d.to_hdf('Processed_Data/city_compare.h5',key='hotel')\n",
    "# d"
   ]
  },
  {
   "cell_type": "code",
   "execution_count": 13,
   "metadata": {},
   "outputs": [
    {
     "name": "stdout",
     "output_type": "stream",
     "text": [
      "2023-01-03\n"
     ]
    }
   ],
   "source": [
    "# GDP vs. hotel nights WoW\n",
    "\n",
    "city_popu=pd.read_hdf('Processed_Data/citypopu.h5',key='raw2')\n",
    "\n",
    "hotel2=hotel1.merge(city_popu,left_on=['cityName'],right_on=['城市'],how='left')\n",
    "\n",
    "hotel2['date']=hotel2['date'].astype('string')\n",
    "hotel2=hotel2[hotel2['date']==riqi].sort_values(by='bookedNights_last7d_mean',ascending=False)\n",
    "hotel2=hotel2[hotel2['bookedNights_change_WoW']<2].head(70).reset_index()\n",
    "\n",
    "o=hotel2[['cityName',  'GDP','bookedNights_change_WoW']]\n",
    "\n",
    "\n",
    "o['size']=np.nan\n",
    "o['group']='其他'\n",
    "\n",
    "c1=o['cityName'].isin(dafeng_city)\n",
    "o.loc[c1,'group']='较早达峰'\n",
    "\n",
    "o=o.sort_values(by='group',ascending=False)\n",
    "\n",
    "o.to_clipboard(index=False,header=None)\n",
    "print(riqi)"
   ]
  },
  {
   "cell_type": "code",
   "execution_count": 14,
   "metadata": {},
   "outputs": [
    {
     "name": "stdout",
     "output_type": "stream",
     "text": [
      "2023-01-03\n"
     ]
    }
   ],
   "source": [
    "# GDP vs. hotel nights vs 202206\n",
    "\n",
    "city_popu=pd.read_hdf('Processed_Data/citypopu.h5',key='raw2')\n",
    "\n",
    "hotel2=hotel1.merge(city_popu,left_on=['cityName'],right_on=['城市'],how='left')\n",
    "\n",
    "hotel2['date']=hotel2['date'].astype('string')\n",
    "hotel2=hotel2[hotel2['date']==riqi].sort_values(by='bookedNights_last7d_mean',ascending=False)\n",
    "hotel2=hotel2[hotel2['changes_since_june']<2].head(70).reset_index()\n",
    "\n",
    "o=hotel2[['cityName',  'GDP','changes_since_june']]\n",
    "\n",
    "\n",
    "o['size']=np.nan\n",
    "o['group']='其他'\n",
    "\n",
    "c1=o['cityName'].isin(dafeng_city)\n",
    "o.loc[c1,'group']='较早达峰'\n",
    "\n",
    "o=o.sort_values(by='group',ascending=False)\n",
    "\n",
    "o.to_clipboard(index=False,header=None)\n",
    "print(riqi)"
   ]
  },
  {
   "cell_type": "code",
   "execution_count": 13,
   "metadata": {},
   "outputs": [],
   "source": [
    "d1=pd.read_clipboard()\n",
    "d2=pd.pivot_table(new[new['date']>'2022-12-28'],index='cityName',columns='date',values='bookedNights',aggfunc='sum').reset_index()\n",
    "d1.merge(d2,left_on='城市',right_on='cityName',how='left').to_clipboard(index=False)"
   ]
  }
 ],
 "metadata": {
  "kernelspec": {
   "display_name": "Python 3",
   "language": "python",
   "name": "python3"
  },
  "language_info": {
   "codemirror_mode": {
    "name": "ipython",
    "version": 3
   },
   "file_extension": ".py",
   "mimetype": "text/x-python",
   "name": "python",
   "nbconvert_exporter": "python",
   "pygments_lexer": "ipython3",
   "version": "3.10.4"
  },
  "orig_nbformat": 4,
  "vscode": {
   "interpreter": {
    "hash": "e261ef090d81a4146804326fe048341ae181a2e90c498e25bece4d3ce4ed8c39"
   }
  }
 },
 "nbformat": 4,
 "nbformat_minor": 2
}
