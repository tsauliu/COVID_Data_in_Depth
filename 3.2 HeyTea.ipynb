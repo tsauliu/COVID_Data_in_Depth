{
 "cells": [
  {
   "cell_type": "code",
   "execution_count": 52,
   "metadata": {},
   "outputs": [
    {
     "name": "stdout",
     "output_type": "stream",
     "text": [
      "heytea.wxapp_2023-01-12.csv\n",
      "heytea.wxapp_2023-01-13.csv\n",
      "heytea.wxapp_2023-01-14.csv\n",
      "heytea.wxapp_2023-01-15.csv\n",
      "heytea.wxapp_2023-01-16.csv\n",
      "heytea.wxapp_2023-01-17.csv\n"
     ]
    }
   ],
   "source": [
    "import warnings\n",
    "warnings.simplefilter(action='ignore')\n",
    "\n",
    "import pandas as pd\n",
    "import numpy as np\n",
    "import datetime\n",
    "\n",
    "import os\n",
    "dfo=pd.DataFrame()\n",
    "\n",
    "for f in os.listdir('./DataSource/HeyTea/'):\n",
    "    # if any(i in f for i in ['2021']):\n",
    "    if f.replace('.csv','').replace('heytea.wxapp_','')>='2023-01-12':\n",
    "        print(f)\n",
    "        date=f.split('_')[-1].split('.')[0]\n",
    "        d=pd.read_csv('./DataSource/HeyTea\\%s' % f)\n",
    "        dfo=pd.concat([dfo,d],axis=0)\n",
    "\n",
    "old=pd.read_hdf(r'Processed_Data/heytea.h5',key='1227')\n",
    "new=pd.concat([old,dfo])\n",
    "new=new.drop_duplicates()\n",
    "new.to_hdf(r'Processed_Data/heytea.h5',key='1227')\n",
    "\n",
    "\n",
    "c1=new['抓取时间'].isin(['抓取时间'])\n",
    "new=new[~c1]\n",
    "new['datetime']=pd.to_datetime(new['抓取时间'])\n",
    "new['hour']=new['datetime'].dt.hour\n",
    "new['date']=new['datetime'].dt.date\n",
    "new['城市']=new['城市'].str.replace('市',\"\")"
   ]
  },
  {
   "cell_type": "code",
   "execution_count": 53,
   "metadata": {},
   "outputs": [
    {
     "data": {
      "text/html": [
       "<div>\n",
       "<style scoped>\n",
       "    .dataframe tbody tr th:only-of-type {\n",
       "        vertical-align: middle;\n",
       "    }\n",
       "\n",
       "    .dataframe tbody tr th {\n",
       "        vertical-align: top;\n",
       "    }\n",
       "\n",
       "    .dataframe thead th {\n",
       "        text-align: right;\n",
       "    }\n",
       "</style>\n",
       "<table border=\"1\" class=\"dataframe\">\n",
       "  <thead>\n",
       "    <tr style=\"text-align: right;\">\n",
       "      <th></th>\n",
       "      <th>date</th>\n",
       "      <th>城市</th>\n",
       "      <th>等待杯量</th>\n",
       "      <th>杯量_last7d_mean</th>\n",
       "    </tr>\n",
       "  </thead>\n",
       "  <tbody>\n",
       "    <tr>\n",
       "      <th>0</th>\n",
       "      <td>2020-09-23</td>\n",
       "      <td>上海</td>\n",
       "      <td>27798.0</td>\n",
       "      <td>NaN</td>\n",
       "    </tr>\n",
       "    <tr>\n",
       "      <th>1</th>\n",
       "      <td>2020-09-23</td>\n",
       "      <td>东莞</td>\n",
       "      <td>2168.0</td>\n",
       "      <td>NaN</td>\n",
       "    </tr>\n",
       "    <tr>\n",
       "      <th>2</th>\n",
       "      <td>2020-09-23</td>\n",
       "      <td>中山</td>\n",
       "      <td>931.0</td>\n",
       "      <td>NaN</td>\n",
       "    </tr>\n",
       "    <tr>\n",
       "      <th>3</th>\n",
       "      <td>2020-09-23</td>\n",
       "      <td>佛山</td>\n",
       "      <td>3887.0</td>\n",
       "      <td>NaN</td>\n",
       "    </tr>\n",
       "    <tr>\n",
       "      <th>4</th>\n",
       "      <td>2020-09-23</td>\n",
       "      <td>兰州</td>\n",
       "      <td>1237.0</td>\n",
       "      <td>NaN</td>\n",
       "    </tr>\n",
       "    <tr>\n",
       "      <th>...</th>\n",
       "      <td>...</td>\n",
       "      <td>...</td>\n",
       "      <td>...</td>\n",
       "      <td>...</td>\n",
       "    </tr>\n",
       "    <tr>\n",
       "      <th>25879</th>\n",
       "      <td>2023-01-17</td>\n",
       "      <td>镇江</td>\n",
       "      <td>0.0</td>\n",
       "      <td>618.153846</td>\n",
       "    </tr>\n",
       "    <tr>\n",
       "      <th>25880</th>\n",
       "      <td>2023-01-17</td>\n",
       "      <td>长沙</td>\n",
       "      <td>63.0</td>\n",
       "      <td>2258.197802</td>\n",
       "    </tr>\n",
       "    <tr>\n",
       "      <th>25881</th>\n",
       "      <td>2023-01-17</td>\n",
       "      <td>阳江</td>\n",
       "      <td>0.0</td>\n",
       "      <td>568.846154</td>\n",
       "    </tr>\n",
       "    <tr>\n",
       "      <th>25882</th>\n",
       "      <td>2023-01-17</td>\n",
       "      <td>青岛</td>\n",
       "      <td>28.0</td>\n",
       "      <td>2657.219780</td>\n",
       "    </tr>\n",
       "    <tr>\n",
       "      <th>25883</th>\n",
       "      <td>2023-01-17</td>\n",
       "      <td>香港特别行政區</td>\n",
       "      <td>0.0</td>\n",
       "      <td>336.615385</td>\n",
       "    </tr>\n",
       "  </tbody>\n",
       "</table>\n",
       "<p>25884 rows × 4 columns</p>\n",
       "</div>"
      ],
      "text/plain": [
       "             date       城市     等待杯量  杯量_last7d_mean\n",
       "0      2020-09-23       上海  27798.0             NaN\n",
       "1      2020-09-23       东莞   2168.0             NaN\n",
       "2      2020-09-23       中山    931.0             NaN\n",
       "3      2020-09-23       佛山   3887.0             NaN\n",
       "4      2020-09-23       兰州   1237.0             NaN\n",
       "...           ...      ...      ...             ...\n",
       "25879  2023-01-17       镇江      0.0      618.153846\n",
       "25880  2023-01-17       长沙     63.0     2258.197802\n",
       "25881  2023-01-17       阳江      0.0      568.846154\n",
       "25882  2023-01-17       青岛     28.0     2657.219780\n",
       "25883  2023-01-17  香港特别行政區      0.0      336.615385\n",
       "\n",
       "[25884 rows x 4 columns]"
      ]
     },
     "execution_count": 53,
     "metadata": {},
     "output_type": "execute_result"
    }
   ],
   "source": [
    "df=new.copy()\n",
    "stores=df[['ID', '城市', '区域', '门店名称', '地址','date']].drop_duplicates().sort_values(by='date')\n",
    "#选取2021年2月春节后营业的店铺\n",
    "c1=stores.date.astype('str')=='2021-02-23'\n",
    "c2=stores.date.astype('str')=='2023-01-12'\n",
    "samestore=stores[c1].merge(stores[c2],on='ID',how='inner')['ID']\n",
    "df=df[df.ID.isin(samestore)]\n",
    "\n",
    "df['等待杯量']=pd.to_numeric(df['等待杯量'])\n",
    "ht=df.groupby(by=['date','城市','ID'])['等待杯量'].mean().reset_index() #hourly avg\n",
    "ht=ht.groupby(by=['date','城市'])['等待杯量'].sum().reset_index() #hourly sum\n",
    "ht['等待杯量']=ht['等待杯量']*14\n",
    "ht['杯量_last7d_mean']=ht.groupby('城市')['等待杯量'].transform(lambda x: x.rolling(7, 7).mean())\n",
    "ht"
   ]
  },
  {
   "cell_type": "code",
   "execution_count": 54,
   "metadata": {},
   "outputs": [],
   "source": [
    "#选取2022年营业大于360天的店铺\n",
    "# c2=df['date']>=datetime.date(2021,12,20)\n",
    "# df=df[c2].sort_values(by=['date'])\n",
    "# storelist=df.groupby(by=['hour','地址'])['ID'].count().reset_index().groupby(by='地址')['ID'].mean().reset_index()\n",
    "# storelist=storelist[storelist['ID']>360]['地址']\n",
    "# df=df[df['地址'].isin(storelist)]\n",
    "\n",
    "\n",
    "#计算相对1Q21的平均\n",
    "c1=ht['date']<= datetime.date(2022,3,31)\n",
    "c2=ht['date']>= datetime.date(2022,1,1)\n",
    "c3=~ht['date'].astype('str').isin(['2022-01-31','2022-02-01','2022-02-02','2022-02-03','2022-02-04','2022-02-05','2022-02-06'])\n",
    "Mar_mean=ht[c1&c2&c3].groupby('城市').mean().reset_index().sort_values(by='等待杯量')[['城市','等待杯量']].reset_index(drop=True)\n",
    "Mar_mean.columns=['城市', '等待杯量_mar']\n",
    "ht=ht.merge(Mar_mean,on='城市')\n",
    "ht['changes_since_mar']=ht['杯量_last7d_mean']/ht['等待杯量_mar']\n",
    "\n",
    "#计算WoW 以及相对22年同期的平均\n",
    "ht['杯量_change_WoW']=(ht['杯量_last7d_mean']/ht.groupby('城市')['杯量_last7d_mean'].transform(lambda x: x.shift(periods=7)))-1\n",
    "\n",
    "ht['date']=ht['date'].astype('string') \n",
    "\n",
    "def getdt(d):\n",
    "    return str(d)[-5:]\n",
    "ht['dt']=ht['date'].apply(getdt)\n",
    "\n",
    "c1=ht['date'].str.contains('2022')\n",
    "ht_22=ht[c1]\n",
    "ht_22=ht_22[['城市', 'dt','杯量_last7d_mean']]\n",
    "ht_22=ht_22.rename(columns={'杯量_last7d_mean':'杯量_22_rolling_mean'})\n",
    "\n",
    "c2=ht['date'].str.contains('2023')\n",
    "ht_23=ht[c2]\n",
    "ht_23=ht_23.merge(ht_22,how='left',on=['城市','dt'])\n",
    "\n",
    "ht_23['ht_status']=ht_23['杯量_last7d_mean']/ht_23['杯量_22_rolling_mean']\n"
   ]
  },
  {
   "cell_type": "code",
   "execution_count": 55,
   "metadata": {},
   "outputs": [
    {
     "data": {
      "text/plain": [
       "<AxesSubplot: >"
      ]
     },
     "execution_count": 55,
     "metadata": {},
     "output_type": "execute_result"
    },
    {
     "data": {
      "image/png": "[encoded data removed]",
      "text/plain": [
       "<Figure size 1440x360 with 2 Axes>"
      ]
     },
     "metadata": {
      "needs_background": "light"
     },
     "output_type": "display_data"
    }
   ],
   "source": [
    "dfp=ht[ht['城市']=='深圳']\n",
    "ax = dfp.plot('date','changes_since_mar')\n",
    "dfp.plot('date','杯量_last7d_mean',secondary_y=True, ax=ax, figsize=(20,5))\n",
    "# dfp.plot('date','杯量_last7d_mean', figsize=(20,5))"
   ]
  },
  {
   "cell_type": "code",
   "execution_count": 56,
   "metadata": {},
   "outputs": [
    {
     "data": {
      "text/html": [
       "<div>\n",
       "<style scoped>\n",
       "    .dataframe tbody tr th:only-of-type {\n",
       "        vertical-align: middle;\n",
       "    }\n",
       "\n",
       "    .dataframe tbody tr th {\n",
       "        vertical-align: top;\n",
       "    }\n",
       "\n",
       "    .dataframe thead th {\n",
       "        text-align: right;\n",
       "    }\n",
       "</style>\n",
       "<table border=\"1\" class=\"dataframe\">\n",
       "  <thead>\n",
       "    <tr style=\"text-align: right;\">\n",
       "      <th></th>\n",
       "      <th>城市</th>\n",
       "      <th>date</th>\n",
       "      <th>traffic</th>\n",
       "      <th>WeekDay</th>\n",
       "      <th>yr</th>\n",
       "      <th>dt</th>\n",
       "      <th>mon</th>\n",
       "      <th>traffic_19_same_wd_mean</th>\n",
       "      <th>amapCNY19_last7d_mean</th>\n",
       "      <th>traffic_last7d_mean</th>\n",
       "      <th>traffic_change</th>\n",
       "      <th>traffic_status_old</th>\n",
       "      <th>traffic_status_last7d_mean</th>\n",
       "      <th>CityTier</th>\n",
       "      <th>yrmon</th>\n",
       "      <th>城市date</th>\n",
       "    </tr>\n",
       "  </thead>\n",
       "  <tbody>\n",
       "    <tr>\n",
       "      <th>46027</th>\n",
       "      <td>张家口</td>\n",
       "      <td>2023-01-15</td>\n",
       "      <td>1.38</td>\n",
       "      <td>Sunday</td>\n",
       "      <td>2023</td>\n",
       "      <td>01-15</td>\n",
       "      <td>01</td>\n",
       "      <td>1.405</td>\n",
       "      <td>1.501429</td>\n",
       "      <td>1.501429</td>\n",
       "      <td>0.091381</td>\n",
       "      <td>1.068632</td>\n",
       "      <td>1.000000</td>\n",
       "      <td>四线城市</td>\n",
       "      <td>2023-01</td>\n",
       "      <td>张家口2023-01-15</td>\n",
       "    </tr>\n",
       "    <tr>\n",
       "      <th>46028</th>\n",
       "      <td>韶关</td>\n",
       "      <td>2023-01-15</td>\n",
       "      <td>1.35</td>\n",
       "      <td>Sunday</td>\n",
       "      <td>2023</td>\n",
       "      <td>01-15</td>\n",
       "      <td>01</td>\n",
       "      <td>1.405</td>\n",
       "      <td>1.470000</td>\n",
       "      <td>1.442857</td>\n",
       "      <td>0.058700</td>\n",
       "      <td>1.026945</td>\n",
       "      <td>0.981535</td>\n",
       "      <td>四线城市</td>\n",
       "      <td>2023-01</td>\n",
       "      <td>韶关2023-01-15</td>\n",
       "    </tr>\n",
       "  </tbody>\n",
       "</table>\n",
       "</div>"
      ],
      "text/plain": [
       "        城市       date  traffic WeekDay    yr     dt mon  \\\n",
       "46027  张家口 2023-01-15     1.38  Sunday  2023  01-15  01   \n",
       "46028   韶关 2023-01-15     1.35  Sunday  2023  01-15  01   \n",
       "\n",
       "       traffic_19_same_wd_mean  amapCNY19_last7d_mean  traffic_last7d_mean  \\\n",
       "46027                    1.405               1.501429             1.501429   \n",
       "46028                    1.405               1.470000             1.442857   \n",
       "\n",
       "       traffic_change  traffic_status_old  traffic_status_last7d_mean  \\\n",
       "46027        0.091381            1.068632                    1.000000   \n",
       "46028        0.058700            1.026945                    0.981535   \n",
       "\n",
       "      CityTier    yrmon         城市date  \n",
       "46027     四线城市  2023-01  张家口2023-01-15  \n",
       "46028     四线城市  2023-01   韶关2023-01-15  "
      ]
     },
     "execution_count": 56,
     "metadata": {},
     "output_type": "execute_result"
    }
   ],
   "source": [
    "citydate=pd.read_hdf('Processed_Data/amap.h5',key='noCOVIDdf')\n",
    "citydate.tail(2)"
   ]
  },
  {
   "cell_type": "code",
   "execution_count": 57,
   "metadata": {},
   "outputs": [
    {
     "data": {
      "text/html": [
       "<div>\n",
       "<style scoped>\n",
       "    .dataframe tbody tr th:only-of-type {\n",
       "        vertical-align: middle;\n",
       "    }\n",
       "\n",
       "    .dataframe tbody tr th {\n",
       "        vertical-align: top;\n",
       "    }\n",
       "\n",
       "    .dataframe thead th {\n",
       "        text-align: right;\n",
       "    }\n",
       "</style>\n",
       "<table border=\"1\" class=\"dataframe\">\n",
       "  <thead>\n",
       "    <tr style=\"text-align: right;\">\n",
       "      <th></th>\n",
       "      <th>城市</th>\n",
       "      <th>等待杯量1Q22无疫情日平均</th>\n",
       "    </tr>\n",
       "  </thead>\n",
       "  <tbody>\n",
       "    <tr>\n",
       "      <th>0</th>\n",
       "      <td>上海</td>\n",
       "      <td>37958.867295</td>\n",
       "    </tr>\n",
       "    <tr>\n",
       "      <th>1</th>\n",
       "      <td>广州</td>\n",
       "      <td>24793.848970</td>\n",
       "    </tr>\n",
       "    <tr>\n",
       "      <th>2</th>\n",
       "      <td>深圳</td>\n",
       "      <td>24061.549362</td>\n",
       "    </tr>\n",
       "    <tr>\n",
       "      <th>3</th>\n",
       "      <td>北京</td>\n",
       "      <td>23642.681613</td>\n",
       "    </tr>\n",
       "  </tbody>\n",
       "</table>\n",
       "</div>"
      ],
      "text/plain": [
       "   城市  等待杯量1Q22无疫情日平均\n",
       "0  上海    37958.867295\n",
       "1  广州    24793.848970\n",
       "2  深圳    24061.549362\n",
       "3  北京    23642.681613"
      ]
     },
     "execution_count": 57,
     "metadata": {},
     "output_type": "execute_result"
    }
   ],
   "source": [
    "#计算相对1Q21 无疫情 非春节时间的平均\n",
    "c1=ht['date'].astype('str') <= '2022-03-31'\n",
    "c2=ht['date'].astype('str') >= '2022-01-01'\n",
    "c3=~ht['date'].astype('str').isin(['2022-01-31','2022-02-01','2022-02-02','2022-02-03','2022-02-04','2022-02-05','2022-02-06'])\n",
    "noCovid_mean=ht[c1&c2&c3]\n",
    "\n",
    "noCovid_mean['城市date']=noCovid_mean['城市']+noCovid_mean['date']\n",
    "c4=noCovid_mean['城市date'].isin(citydate['城市date'])\n",
    "noCovid_mean=noCovid_mean[c4].groupby('城市').mean().reset_index().sort_values(by='等待杯量',ascending=False)[['城市','等待杯量']].reset_index(drop=True).rename(columns={'等待杯量':'等待杯量1Q22无疫情日平均'})\n",
    "noCovid_mean.head(4)"
   ]
  },
  {
   "cell_type": "code",
   "execution_count": 69,
   "metadata": {},
   "outputs": [],
   "source": [
    "htall=ht.copy()\n",
    "htall=htall.fillna(0)\n",
    "htall=htall.merge(noCovid_mean,on='城市',how='left')\n",
    "htall=htall[htall['等待杯量1Q22无疫情日平均']>0]\n",
    "htall=htall[htall.date.astype('str')>='2022-12-01'].groupby('date').sum().reset_index()#.plot('date','changes_since_mar', figsize=(20,5))\n",
    "htall['等待杯量_change']=htall['杯量_last7d_mean']/htall['等待杯量1Q22无疫情日平均']\n",
    "htall[['date','等待杯量_change']].to_clipboard(index=False)"
   ]
  },
  {
   "cell_type": "code",
   "execution_count": 68,
   "metadata": {},
   "outputs": [
    {
     "data": {
      "text/plain": [
       "<AxesSubplot: xlabel='date'>"
      ]
     },
     "execution_count": 68,
     "metadata": {},
     "output_type": "execute_result"
    },
    {
     "data": {
      "image/png": "[encoded data removed]",
      "text/plain": [
       "<Figure size 1440x360 with 1 Axes>"
      ]
     },
     "metadata": {
      "needs_background": "light"
     },
     "output_type": "display_data"
    }
   ],
   "source": [
    "htall.plot('date','等待杯量_change', figsize=(20,5))"
   ]
  },
  {
   "cell_type": "code",
   "execution_count": 59,
   "metadata": {},
   "outputs": [],
   "source": [
    "# # covid rank vs. HEYTEA WoW\n",
    "\n",
    "# %load_ext autoreload\n",
    "# %autoreload 2\n",
    "# from colored_list import dafeng_city,jidui_city,riqi\n",
    "# # riqi='2022-12-29'\n",
    "# df_covid=pd.read_hdf('Processed_Data/Baidu_covid_progress.h5',key='raw')\n",
    "\n",
    "# ht1=ht_23.merge(df_covid,left_on=['城市'],right_on=['城市'],how='left')\n",
    "\n",
    "# ht1['date']=ht1['date'].astype('string') \n",
    "\n",
    "# ht2=ht1[ht1['date']==riqi].sort_values(by='杯量_last7d_mean',ascending=False)\n",
    "# ht2=ht2[ht1['杯量_change_WoW']<4].head(100).reset_index()\n",
    "\n",
    "# o=ht2[['城市',  'progress_2','杯量_change_WoW']]\n",
    "\n",
    "# o['size']=np.nan\n",
    "# o['group']='其他'\n",
    "\n",
    "# c1=o['城市'].isin(dafeng_city)\n",
    "# o.loc[c1,'group']='本波疫情基本结束'\n",
    "\n",
    "# o=o.sort_values(by='group',ascending=False)\n",
    "# o.to_clipboard(index=False,header=None)\n",
    "# print(riqi,'wow')"
   ]
  },
  {
   "cell_type": "code",
   "execution_count": 60,
   "metadata": {},
   "outputs": [],
   "source": [
    "# ht['date']=ht['date'].astype('str')\n",
    "# c1=ht['date'].isin(['2022-01-01','2022-01-02','2022-01-03'])\n",
    "# c2=ht['date'].isin(['2022-12-31','2023-01-01','2023-01-02'])\n",
    "# d1=ht[c1][['城市','等待杯量']].groupby('城市').mean().reset_index().rename(columns={'等待杯量':'2022元旦平均杯量'})\n",
    "# d2=ht[c2][['城市','等待杯量']].groupby('城市').mean().reset_index().rename(columns={'等待杯量':'2023元旦平均杯量'})\n",
    "# d3=d1.merge(d2,on='城市')\n",
    "# d3['changes_since_mar']=d3['2023元旦平均杯量']/d3['2022元旦平均杯量']\n",
    "# d3"
   ]
  },
  {
   "cell_type": "code",
   "execution_count": 61,
   "metadata": {},
   "outputs": [],
   "source": [
    "# # covid rank vs. heytea as of 2022\n",
    "\n",
    "# ht1=ht_23.merge(df_covid,left_on=['城市'],right_on=['城市'],how='left') #regular update\n",
    "\n",
    "# ht1['date']=ht1['date'].astype('string') \n",
    "# ht2=ht1[ht1['date']==riqi].sort_values(by='杯量_last7d_mean',ascending=False)\n",
    "\n",
    "# ht2=ht2[ht1['ht_status']<10].head(100).reset_index()\n",
    "# o=ht2[['城市',  'progress_2','ht_status']]\n",
    "\n",
    "# o['size']=np.nan\n",
    "# o['group']='其他'\n",
    "\n",
    "# c1=o['城市'].isin(dafeng_city)\n",
    "# o.loc[c1,'group']='本波疫情基本结束'\n",
    "\n",
    "# o=o.sort_values(by='group',ascending=False)\n",
    "\n",
    "# o.to_clipboard(index=False,header=None)\n",
    "\n",
    "\n",
    "\n",
    "# print(riqi,'同比')\n",
    "# print(o)\n"
   ]
  },
  {
   "cell_type": "code",
   "execution_count": 71,
   "metadata": {},
   "outputs": [
    {
     "name": "stdout",
     "output_type": "stream",
     "text": [
      "The autoreload extension is already loaded. To reload it, use:\n",
      "  %reload_ext autoreload\n",
      "2023-01-16 wow\n"
     ]
    }
   ],
   "source": [
    "# 人均收入 vs. HEYTEA WoW\n",
    "\n",
    "%load_ext autoreload\n",
    "%autoreload 2\n",
    "from colored_list import dafeng_city,jidui_city,riqi\n",
    "riqi='2023-01-16'\n",
    "\n",
    "\n",
    "city_popu=pd.read_hdf('Processed_Data/citypopu.h5',key='raw2')\n",
    "\n",
    "ht1=ht_23.merge(city_popu,on='城市',how='left')\n",
    "\n",
    "ht1['date']=ht1['date'].astype('string') \n",
    "\n",
    "ht2=ht1[ht1['date']==riqi].sort_values(by='杯量_last7d_mean',ascending=False)\n",
    "ht2=ht2[ht1['杯量_change_WoW']<0.7].head(100).reset_index()\n",
    "\n",
    "o=ht2[['城市',  '人均可支配收入','杯量_change_WoW']]\n",
    "\n",
    "o['size']=np.nan\n",
    "o['group']='其他'\n",
    "\n",
    "c1=o['城市'].isin(dafeng_city)\n",
    "o.loc[c1,'group']='本波疫情基本结束'\n",
    "\n",
    "o=o.sort_values(by=['group','人均可支配收入'],ascending=False)\n",
    "\n",
    "o.to_clipboard(index=False,header=None)\n",
    "print(riqi,'wow')"
   ]
  },
  {
   "cell_type": "code",
   "execution_count": 74,
   "metadata": {},
   "outputs": [
    {
     "name": "stdout",
     "output_type": "stream",
     "text": [
      "2023-01-16 as of\n"
     ]
    }
   ],
   "source": [
    "# 人均收入 vs. HEYTEA as of 2022\n",
    "\n",
    "# riqi='2023-01-09'\n",
    "ht2=ht1[ht1['date']==riqi].sort_values(by='杯量_last7d_mean',ascending=False)\n",
    "ht2=ht2[ht1['changes_since_mar']<3].sort_values(by='常住人口',ascending=False).head(70).reset_index()\n",
    "\n",
    "o=ht2[['城市',  '人均可支配收入','changes_since_mar']]\n",
    "\n",
    "o['size']=np.nan\n",
    "o['group']='其他'\n",
    "\n",
    "c1=o['城市'].isin(dafeng_city)\n",
    "o.loc[c1,'group']='本波疫情基本结束'\n",
    "\n",
    "o=o.sort_values(by=['group','人均可支配收入'],ascending=False)\n",
    "\n",
    "d=ht1[ht1['date']==riqi][['城市','date','changes_since_mar']].reset_index(drop=True).rename(columns={'date':'date','changes_since_mar':'heytea'})\n",
    "d['date']=pd.to_datetime(d['date'])\n",
    "d.to_hdf('Processed_Data/city_compare.h5',key='heytea')\n",
    "\n",
    "o.to_clipboard(index=False,header=None)\n",
    "print(riqi,'as of')"
   ]
  },
  {
   "cell_type": "code",
   "execution_count": 77,
   "metadata": {},
   "outputs": [],
   "source": [
    "# d1=pd.read_clipboard()\n",
    "# d1.to_hdf('Processed_Data/tablehead.h5','heytea')\n",
    "\n",
    "d1=pd.read_hdf('Processed_Data/tablehead.h5','heytea')\n",
    "d2=pd.pivot_table(ht[ht['date'].astype('str')>='2023-01-12'],index='城市',columns='date',values='等待杯量',aggfunc='mean').reset_index()\n",
    "d1.merge(d2,left_on='城市',right_on='城市',how='left').drop(columns='城市').to_clipboard(index=False)"
   ]
  }
 ],
 "metadata": {
  "kernelspec": {
   "display_name": "Python 3",
   "language": "python",
   "name": "python3"
  },
  "language_info": {
   "codemirror_mode": {
    "name": "ipython",
    "version": 3
   },
   "file_extension": ".py",
   "mimetype": "text/x-python",
   "name": "python",
   "nbconvert_exporter": "python",
   "pygments_lexer": "ipython3",
   "version": "3.10.4"
  },
  "orig_nbformat": 4,
  "vscode": {
   "interpreter": {
    "hash": "e261ef090d81a4146804326fe048341ae181a2e90c498e25bece4d3ce4ed8c39"
   }
  }
 },
 "nbformat": 4,
 "nbformat_minor": 2
}
