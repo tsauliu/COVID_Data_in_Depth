{
 "cells": [
  {
   "cell_type": "code",
   "execution_count": 1,
   "metadata": {},
   "outputs": [
    {
     "data": {
      "text/html": [
       "<div>\n",
       "<style scoped>\n",
       "    .dataframe tbody tr th:only-of-type {\n",
       "        vertical-align: middle;\n",
       "    }\n",
       "\n",
       "    .dataframe tbody tr th {\n",
       "        vertical-align: top;\n",
       "    }\n",
       "\n",
       "    .dataframe thead th {\n",
       "        text-align: right;\n",
       "    }\n",
       "</style>\n",
       "<table border=\"1\" class=\"dataframe\">\n",
       "  <thead>\n",
       "    <tr style=\"text-align: right;\">\n",
       "      <th></th>\n",
       "      <th>城市</th>\n",
       "      <th>date</th>\n",
       "      <th>MovieRecovery</th>\n",
       "      <th>MovieWoW</th>\n",
       "      <th>MoviePpts</th>\n",
       "    </tr>\n",
       "  </thead>\n",
       "  <tbody>\n",
       "    <tr>\n",
       "      <th>0</th>\n",
       "      <td>北京</td>\n",
       "      <td>1/17/2023</td>\n",
       "      <td>0.31</td>\n",
       "      <td>-0.23</td>\n",
       "      <td>-0.02</td>\n",
       "    </tr>\n",
       "    <tr>\n",
       "      <th>1</th>\n",
       "      <td>石家庄</td>\n",
       "      <td>1/17/2023</td>\n",
       "      <td>0.38</td>\n",
       "      <td>0.00</td>\n",
       "      <td>0.09</td>\n",
       "    </tr>\n",
       "  </tbody>\n",
       "</table>\n",
       "</div>"
      ],
      "text/plain": [
       "    城市       date  MovieRecovery  MovieWoW  MoviePpts\n",
       "0   北京  1/17/2023           0.31     -0.23      -0.02\n",
       "1  石家庄  1/17/2023           0.38      0.00       0.09"
      ]
     },
     "execution_count": 1,
     "metadata": {},
     "output_type": "execute_result"
    }
   ],
   "source": [
    "import warnings\n",
    "warnings.simplefilter(action='ignore')\n",
    "\n",
    "import pandas as pd\n",
    "import numpy as np\n",
    "import datetime\n",
    "\n",
    "# df=pd.read_clipboard()\n",
    "# df.to_hdf(r'Processed_Data/movie.h5','1230')\n",
    "\n",
    "df=pd.read_hdf(r'Processed_Data/movie.h5','1230')\n",
    "\n",
    "df['MovieRecovery']=pd.to_numeric(df['MovieRecovery'].str.replace('%',''))/100\n",
    "df['MovieWoW']=pd.to_numeric(df['MovieWoW'].astype('str').str.replace('%',''))/100\n",
    "df['MoviePpts']=pd.to_numeric(df['MoviePpts'].astype('str').str.replace('%',''))/100\n",
    "\n",
    "\n",
    "d=df[['城市','MovieRecovery']].reset_index(drop=True).rename(columns={'MovieRecovery':'movie'})\n",
    "d.to_hdf('Processed_Data/city_compare.h5',key='movie')\n",
    "\n",
    "df.head(2)"
   ]
  },
  {
   "cell_type": "code",
   "execution_count": 7,
   "metadata": {},
   "outputs": [
    {
     "name": "stdout",
     "output_type": "stream",
     "text": [
      "The autoreload extension is already loaded. To reload it, use:\n",
      "  %reload_ext autoreload\n",
      "vs. 2022\n"
     ]
    }
   ],
   "source": [
    "# # covid rank vs. Movie vs. 2022\n",
    "\n",
    "# %load_ext autoreload\n",
    "# %autoreload 2\n",
    "# from colored_list import dafeng_city,jidui_city,riqi\n",
    "\n",
    "\n",
    "# df_covid=pd.read_hdf('Processed_Data/Baidu_covid_progress.h5',key='raw')\n",
    "# o=df.merge(df_covid,on='城市',how='left')\n",
    "\n",
    "# o=o[['城市', 'progress_2','MovieRecovery']]\n",
    "\n",
    "\n",
    "# o['size']=np.nan\n",
    "# o['group']='其他'\n",
    "\n",
    "# c1=o['城市'].isin(dafeng_city)\n",
    "# o.loc[c1,'group']='本波疫情基本结束'\n",
    "\n",
    "# o=o.sort_values(by='group',ascending=False) \n",
    "# o.to_clipboard(index=False,header=None)\n",
    "\n",
    "# print('vs. 2022')"
   ]
  },
  {
   "cell_type": "code",
   "execution_count": 6,
   "metadata": {},
   "outputs": [
    {
     "name": "stdout",
     "output_type": "stream",
     "text": [
      "The autoreload extension is already loaded. To reload it, use:\n",
      "  %reload_ext autoreload\n",
      "WoW\n"
     ]
    }
   ],
   "source": [
    "# 人均收入 vs. Movie WoW\n",
    "\n",
    "%load_ext autoreload\n",
    "%autoreload 2\n",
    "from colored_list import dafeng_city,jidui_city,riqi\n",
    "\n",
    "\n",
    "city_popu=pd.read_hdf('Processed_Data/citypopu.h5',key='raw2')\n",
    "\n",
    "o=df.merge(city_popu,on='城市',how='left')\n",
    "\n",
    "o=o[['城市', '人均可支配收入','MovieWoW']]\n",
    "\n",
    "o['size']=np.nan\n",
    "o['group']='其他'\n",
    "\n",
    "c1=o['城市'].isin(dafeng_city)\n",
    "o.loc[c1,'group']='本波疫情基本结束'\n",
    "\n",
    "o=o.sort_values(by=['group','人均可支配收入'],ascending=False) \n",
    "o.to_clipboard(index=False,header=None)\n",
    "\n",
    "print('WoW')"
   ]
  },
  {
   "cell_type": "code",
   "execution_count": 4,
   "metadata": {},
   "outputs": [
    {
     "name": "stdout",
     "output_type": "stream",
     "text": [
      "The autoreload extension is already loaded. To reload it, use:\n",
      "  %reload_ext autoreload\n",
      "vs. 2022\n"
     ]
    }
   ],
   "source": [
    "# 人均收入 vs. Movie vs. 2022\n",
    "\n",
    "%load_ext autoreload\n",
    "%autoreload 2\n",
    "from colored_list import dafeng_city,jidui_city,riqi\n",
    "\n",
    "\n",
    "city_popu=pd.read_hdf('Processed_Data/citypopu.h5',key='raw2')\n",
    "\n",
    "o=df.merge(city_popu,on='城市',how='left')\n",
    "\n",
    "o=o[['城市', '人均可支配收入','MovieRecovery']]\n",
    "\n",
    "o['size']=np.nan\n",
    "o['group']='其他'\n",
    "\n",
    "c1=o['城市'].isin(dafeng_city)\n",
    "o.loc[c1,'group']='本波疫情基本结束'\n",
    "\n",
    "o=o.sort_values(by=['group','人均可支配收入'],ascending=False) \n",
    "o.to_clipboard(index=False,header=None)\n",
    "\n",
    "print('vs. 2022')"
   ]
  }
 ],
 "metadata": {
  "kernelspec": {
   "display_name": "Python 3",
   "language": "python",
   "name": "python3"
  },
  "language_info": {
   "codemirror_mode": {
    "name": "ipython",
    "version": 3
   },
   "file_extension": ".py",
   "mimetype": "text/x-python",
   "name": "python",
   "nbconvert_exporter": "python",
   "pygments_lexer": "ipython3",
   "version": "3.10.4"
  },
  "orig_nbformat": 4,
  "vscode": {
   "interpreter": {
    "hash": "e261ef090d81a4146804326fe048341ae181a2e90c498e25bece4d3ce4ed8c39"
   }
  }
 },
 "nbformat": 4,
 "nbformat_minor": 2
}
