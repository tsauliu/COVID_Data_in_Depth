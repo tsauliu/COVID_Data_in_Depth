{
 "cells": [
  {
   "cell_type": "code",
   "execution_count": 1,
   "metadata": {},
   "outputs": [],
   "source": [
    "import warnings\n",
    "warnings.simplefilter(action='ignore')\n",
    "\n",
    "import pandas as pd\n",
    "import numpy as np\n",
    "import datetime\n",
    "city_popu=pd.read_hdf('./Processed_Data/citypopu.h5',key='raw2')\n",
    "city_popu['城市']=city_popu['城市'].str.replace('市',\"\")\n",
    "city_popu['常住人口']=pd.to_numeric(city_popu['常住人口'])"
   ]
  },
  {
   "cell_type": "code",
   "execution_count": 78,
   "metadata": {},
   "outputs": [
    {
     "name": "stdout",
     "output_type": "stream",
     "text": [
      "heytea.wxapp_2021-12-01.csv\n",
      "heytea.wxapp_2021-12-02.csv\n",
      "heytea.wxapp_2021-12-03.csv\n",
      "heytea.wxapp_2021-12-04.csv\n",
      "heytea.wxapp_2021-12-05.csv\n",
      "heytea.wxapp_2021-12-06.csv\n",
      "heytea.wxapp_2021-12-07.csv\n",
      "heytea.wxapp_2021-12-08.csv\n",
      "heytea.wxapp_2021-12-09.csv\n",
      "heytea.wxapp_2021-12-10.csv\n",
      "heytea.wxapp_2021-12-11.csv\n",
      "heytea.wxapp_2021-12-12.csv\n",
      "heytea.wxapp_2021-12-13.csv\n",
      "heytea.wxapp_2021-12-14.csv\n",
      "heytea.wxapp_2021-12-15.csv\n",
      "heytea.wxapp_2021-12-16.csv\n",
      "heytea.wxapp_2021-12-17.csv\n",
      "heytea.wxapp_2021-12-18.csv\n",
      "heytea.wxapp_2021-12-19.csv\n",
      "heytea.wxapp_2021-12-20.csv\n",
      "heytea.wxapp_2021-12-21.csv\n",
      "heytea.wxapp_2021-12-22.csv\n",
      "heytea.wxapp_2021-12-23.csv\n",
      "heytea.wxapp_2021-12-24.csv\n",
      "heytea.wxapp_2021-12-25.csv\n",
      "heytea.wxapp_2021-12-26.csv\n",
      "heytea.wxapp_2021-12-27.csv\n",
      "heytea.wxapp_2021-12-28.csv\n",
      "heytea.wxapp_2021-12-29.csv\n",
      "heytea.wxapp_2021-12-30.csv\n",
      "heytea.wxapp_2021-12-31.csv\n"
     ]
    }
   ],
   "source": [
    "import os\n",
    "dfo=pd.DataFrame()\n",
    "\n",
    "for f in os.listdir('./DataSource/HeyTea/'):\n",
    "    if any(i in f for i in ['2021-12']):\n",
    "        print(f)\n",
    "        date=f.split('_')[-1].split('.')[0]\n",
    "        d=pd.read_csv('./DataSource/HeyTea\\%s' % f)\n",
    "        dfo=pd.concat([dfo,d],axis=0)"
   ]
  },
  {
   "cell_type": "code",
   "execution_count": 79,
   "metadata": {},
   "outputs": [],
   "source": [
    "old=pd.read_hdf(r'Processed_Data/heytea.h5',key='1227')\n",
    "new=pd.concat([old,dfo])\n",
    "new=new.drop_duplicates()\n",
    "new.to_hdf(r'Processed_Data/heytea.h5',key='1227')"
   ]
  },
  {
   "cell_type": "code",
   "execution_count": 136,
   "metadata": {},
   "outputs": [],
   "source": [
    "df=new.copy()\n",
    "c1=df['抓取时间'].isin(['抓取时间'])\n",
    "df=df[~c1]\n",
    "df['datetime']=pd.to_datetime(df['抓取时间'])\n",
    "df['hour']=df['datetime'].dt.hour\n",
    "df['dt']=df['datetime'].dt.date\n",
    "df['城市']=df['城市'].str.replace('市',\"\")"
   ]
  },
  {
   "cell_type": "code",
   "execution_count": 137,
   "metadata": {},
   "outputs": [],
   "source": [
    "c2=df['dt']>=datetime.date(2022,1,1)\n",
    "df=df[c2]"
   ]
  },
  {
   "cell_type": "code",
   "execution_count": 162,
   "metadata": {},
   "outputs": [],
   "source": [
    "storelist=df.groupby(by=['hour','地址'])['ID'].count().reset_index().groupby(by='地址')['ID'].mean().reset_index()\n",
    "storelist=storelist[storelist['ID']>350]['地址']\n",
    "df=df[df['地址'].isin(storelist)]\n",
    "df['等待杯量']=pd.to_numeric(df['等待杯量'])\n",
    "# storelist"
   ]
  },
  {
   "cell_type": "code",
   "execution_count": 163,
   "metadata": {},
   "outputs": [],
   "source": [
    "ht=df.groupby(by=['dt','城市'])['等待杯量'].sum().reset_index()\n",
    "ht['杯量_last7d_mean']=ht.groupby('城市')['等待杯量'].transform(lambda x: x.rolling(7, 6).mean())"
   ]
  },
  {
   "cell_type": "code",
   "execution_count": 164,
   "metadata": {},
   "outputs": [],
   "source": [
    "c1=ht['dt']< datetime.date(2022,3,1)\n",
    "c2=ht['dt']> datetime.date(2022,2,6)\n",
    "Mar_mean=ht[c1&c2].groupby('城市').mean().reset_index().sort_values(by='等待杯量')[['城市','等待杯量']].reset_index(drop=True)\n",
    "Mar_mean.columns=['城市', '等待杯量_mar']\n",
    "Mar_mean\n",
    "\n",
    "ht=ht.merge(Mar_mean,on='城市')\n",
    "ht['changes_since_mar']=ht['杯量_last7d_mean']/ht['等待杯量_mar']"
   ]
  },
  {
   "cell_type": "code",
   "execution_count": 169,
   "metadata": {},
   "outputs": [],
   "source": [
    "pd.pivot_table(df,index=['城市'],columns='dt',values='等待杯量',aggfunc='sum').to_clipboard()"
   ]
  },
  {
   "cell_type": "code",
   "execution_count": 165,
   "metadata": {},
   "outputs": [],
   "source": [
    "citylist=['北京','石家庄','上海','武汉']\n",
    "c3=ht['城市'].isin(citylist)\n",
    "c4=ht['dt']>datetime.date(2022,1,1)\n",
    "show=ht[c3&c4]\n",
    "\n",
    "\n",
    "show=pd.pivot_table(show,index='dt',columns='城市',values='changes_since_mar',aggfunc='mean').reset_index() #\n",
    "show['sum']=np.nan\n",
    "\n",
    "show=show[['dt','sum']+citylist]\n",
    "show.to_clipboard(index=False)"
   ]
  },
  {
   "cell_type": "code",
   "execution_count": 166,
   "metadata": {},
   "outputs": [
    {
     "data": {
      "text/html": [
       "<div>\n",
       "<style scoped>\n",
       "    .dataframe tbody tr th:only-of-type {\n",
       "        vertical-align: middle;\n",
       "    }\n",
       "\n",
       "    .dataframe tbody tr th {\n",
       "        vertical-align: top;\n",
       "    }\n",
       "\n",
       "    .dataframe thead th {\n",
       "        text-align: right;\n",
       "    }\n",
       "</style>\n",
       "<table border=\"1\" class=\"dataframe\">\n",
       "  <thead>\n",
       "    <tr style=\"text-align: right;\">\n",
       "      <th></th>\n",
       "      <th>city</th>\n",
       "      <th>progress</th>\n",
       "      <th>peak</th>\n",
       "      <th>end</th>\n",
       "      <th>城市</th>\n",
       "      <th>常住人口</th>\n",
       "      <th>progress_2</th>\n",
       "    </tr>\n",
       "  </thead>\n",
       "  <tbody>\n",
       "    <tr>\n",
       "      <th>295</th>\n",
       "      <td>聊城</td>\n",
       "      <td>回落至34%</td>\n",
       "      <td>2022/12/20</td>\n",
       "      <td>2023/03/07</td>\n",
       "      <td>聊城</td>\n",
       "      <td>201</td>\n",
       "      <td>34</td>\n",
       "    </tr>\n",
       "    <tr>\n",
       "      <th>296</th>\n",
       "      <td>宿迁</td>\n",
       "      <td>回落至41%</td>\n",
       "      <td>2022/12/21</td>\n",
       "      <td>2023/03/08</td>\n",
       "      <td>宿迁</td>\n",
       "      <td>310</td>\n",
       "      <td>41</td>\n",
       "    </tr>\n",
       "  </tbody>\n",
       "</table>\n",
       "</div>"
      ],
      "text/plain": [
       "    city progress        peak         end  城市  常住人口  progress_2\n",
       "295   聊城   回落至34%  2022/12/20  2023/03/07  聊城   201          34\n",
       "296   宿迁   回落至41%  2022/12/21  2023/03/08  宿迁   310          41"
      ]
     },
     "execution_count": 166,
     "metadata": {},
     "output_type": "execute_result"
    }
   ],
   "source": [
    "df_covid=pd.read_hdf('Processed_Data/Baidu_covid_progress.h5',key='raw')\n",
    "df_covid.tail(2)"
   ]
  },
  {
   "cell_type": "code",
   "execution_count": 167,
   "metadata": {},
   "outputs": [
    {
     "name": "stdout",
     "output_type": "stream",
     "text": [
      "The autoreload extension is already loaded. To reload it, use:\n",
      "  %reload_ext autoreload\n",
      "2022-12-26\n"
     ]
    }
   ],
   "source": [
    "# covid rank vs. HEYTEA WoW\n",
    "\n",
    "%load_ext autoreload\n",
    "%autoreload 2\n",
    "from colored_list import dafeng_city,jidui_city,riqi\n",
    "riqi='2022-12-26'\n",
    "\n",
    "ht1=ht.merge(df_covid,left_on=['城市'],right_on=['城市'],how='left')\n",
    "ht1['covid_rank']=ht1.groupby(by=['dt'])['progress_2'].rank(method=\"dense\", ascending=False)\n",
    "ht1['杯量_change_WoW']=(ht1['杯量_last7d_mean']/ht1.groupby('城市')['杯量_last7d_mean'].transform(lambda x: x.shift(periods=7)))-1\n",
    "\n",
    "\n",
    "ht1['dt']=ht1['dt'].astype('string') \n",
    "\n",
    "ht2=ht1[ht1['dt']==riqi].sort_values(by='杯量_last7d_mean',ascending=False)\n",
    "ht2=ht2[ht1['杯量_change_WoW']<10].head(100).reset_index()\n",
    "\n",
    "o=ht2[['城市',  'covid_rank','杯量_change_WoW']]\n",
    "\n",
    "\n",
    "o['size']=np.nan\n",
    "o['group']='C'\n",
    "\n",
    "c1=o['城市'].isin(dafeng_city)\n",
    "o.loc[c1,'group']='A'\n",
    "\n",
    "c2=o['城市'].isin(jidui_city)\n",
    "o.loc[c2,'group']='B'\n",
    "\n",
    "o=o.sort_values(by='group')\n",
    "\n",
    "o.to_clipboard(index=False,header=None)\n",
    "print(riqi)"
   ]
  },
  {
   "cell_type": "code",
   "execution_count": 168,
   "metadata": {},
   "outputs": [
    {
     "name": "stdout",
     "output_type": "stream",
     "text": [
      "2022-12-26\n"
     ]
    }
   ],
   "source": [
    "# covid rank vs. heytea vs 202202\n",
    "\n",
    "ht1=ht.merge(df_covid,left_on=['城市'],right_on=['城市'],how='left')\n",
    "ht1['covid_rank']=ht1.groupby(by=['dt'])['progress_2'].rank(method=\"dense\", ascending=False)\n",
    "\n",
    "ht1['dt']=ht1['dt'].astype('string') \n",
    "\n",
    "ht2=ht1[ht1['dt']==riqi].sort_values(by='杯量_last7d_mean',ascending=False)\n",
    "ht2=ht2[ht1['changes_since_mar']<10].head(100).reset_index()\n",
    "# hote1\n",
    "o=ht2[['城市',  'covid_rank','changes_since_mar']]\n",
    "\n",
    "\n",
    "o['size']=np.nan\n",
    "o['group']='C'\n",
    "\n",
    "c1=o['城市'].isin(dafeng_city)\n",
    "o.loc[c1,'group']='A'\n",
    "\n",
    "c2=o['城市'].isin(jidui_city)\n",
    "o.loc[c2,'group']='B'\n",
    "\n",
    "o=o.sort_values(by='group')\n",
    "\n",
    "o.to_clipboard(index=False,header=None)\n",
    "print(riqi)"
   ]
  }
 ],
 "metadata": {
  "kernelspec": {
   "display_name": "Python 3",
   "language": "python",
   "name": "python3"
  },
  "language_info": {
   "codemirror_mode": {
    "name": "ipython",
    "version": 3
   },
   "file_extension": ".py",
   "mimetype": "text/x-python",
   "name": "python",
   "nbconvert_exporter": "python",
   "pygments_lexer": "ipython3",
   "version": "3.10.4 (tags/v3.10.4:9d38120, Mar 23 2022, 23:13:41) [MSC v.1929 64 bit (AMD64)]"
  },
  "orig_nbformat": 4,
  "vscode": {
   "interpreter": {
    "hash": "e261ef090d81a4146804326fe048341ae181a2e90c498e25bece4d3ce4ed8c39"
   }
  }
 },
 "nbformat": 4,
 "nbformat_minor": 2
}
