{
 "cells": [
  {
   "cell_type": "code",
   "execution_count": 23,
   "metadata": {},
   "outputs": [],
   "source": [
    "import warnings\n",
    "warnings.simplefilter(action='ignore')\n",
    "\n",
    "import pandas as pd\n",
    "import numpy as np\n",
    "import datetime\n",
    "\n",
    "datapath='Processed_Data/city_compare.h5'\n",
    "db=pd.HDFStore(datapath)\n",
    "db.keys()\n",
    "\n",
    "airports=db['airports']\n",
    "amap=db['amap']\n",
    "hdl=db['hdl']\n",
    "heytea=db['heytea']\n",
    "hotel=db['hotel']\n",
    "subway=db['subway']\n",
    "movie=db['movie']\n",
    "bdcom=db['BDcom']\n",
    "\n",
    "db.close()"
   ]
  },
  {
   "cell_type": "code",
   "execution_count": 27,
   "metadata": {},
   "outputs": [],
   "source": [
    "city_popu=pd.read_hdf('./Processed_Data/citypopu.h5',key='raw2')\n",
    "city_popu['城市']=city_popu['城市'].str.replace('市',\"\")\n",
    "city_popu['常住人口']=pd.to_numeric(city_popu['常住人口'])"
   ]
  },
  {
   "cell_type": "code",
   "execution_count": 28,
   "metadata": {},
   "outputs": [],
   "source": [
    "# citytier=pd.read_clipboard()\n",
    "citytier.to_hdf('./Processed_Data/citypopu.h5',key='citytier')"
   ]
  },
  {
   "cell_type": "code",
   "execution_count": 29,
   "metadata": {},
   "outputs": [
    {
     "data": {
      "text/html": [
       "<div>\n",
       "<style scoped>\n",
       "    .dataframe tbody tr th:only-of-type {\n",
       "        vertical-align: middle;\n",
       "    }\n",
       "\n",
       "    .dataframe tbody tr th {\n",
       "        vertical-align: top;\n",
       "    }\n",
       "\n",
       "    .dataframe thead th {\n",
       "        text-align: right;\n",
       "    }\n",
       "</style>\n",
       "<table border=\"1\" class=\"dataframe\">\n",
       "  <thead>\n",
       "    <tr style=\"text-align: right;\">\n",
       "      <th></th>\n",
       "      <th>城市</th>\n",
       "      <th>峰值日</th>\n",
       "      <th>covid_progess</th>\n",
       "    </tr>\n",
       "  </thead>\n",
       "  <tbody>\n",
       "    <tr>\n",
       "      <th>0</th>\n",
       "      <td>鞍山</td>\n",
       "      <td>2022/12/18</td>\n",
       "      <td>0.0</td>\n",
       "    </tr>\n",
       "    <tr>\n",
       "      <th>1</th>\n",
       "      <td>龙岩</td>\n",
       "      <td>2022/12/27</td>\n",
       "      <td>0.0</td>\n",
       "    </tr>\n",
       "  </tbody>\n",
       "</table>\n",
       "</div>"
      ],
      "text/plain": [
       "   城市         峰值日  covid_progess\n",
       "0  鞍山  2022/12/18            0.0\n",
       "1  龙岩  2022/12/27            0.0"
      ]
     },
     "execution_count": 29,
     "metadata": {},
     "output_type": "execute_result"
    }
   ],
   "source": [
    "df_covid=pd.read_hdf('Processed_Data/Baidu_covid_progress.h5',key='raw')\n",
    "df_covid=df_covid[['city','peak','progress_2']]\n",
    "df_covid.columns=['城市','峰值日','covid_progess']\n",
    "df_covid['covid_progess']=pd.to_numeric(df_covid['covid_progess'])/100\n",
    "df_covid.head(2)"
   ]
  },
  {
   "cell_type": "code",
   "execution_count": 30,
   "metadata": {},
   "outputs": [],
   "source": [
    "all=city_popu.merge(df_covid,how='outer',on='城市').merge(amap.drop(columns='date'),how='outer',on='城市').merge(airports.drop(columns='date'),how='outer',on='城市').merge(subway.drop(columns='date'),how='outer',on='城市').merge(bdcom.drop(columns='date'),how='outer',on='城市').merge(heytea.drop(columns='date'),how='outer',on='城市').merge(movie,how='outer',on='城市').merge(hdl.drop(columns='date'),how='outer',on='城市').merge(hotel.drop(columns='date'),how='outer',on='城市')\n",
    "\n",
    "\n",
    "all['N']=all.count(axis=1)\n",
    "all=all[all['covid_progess']>=0]\n",
    "\n",
    "all=all.sort_values(by='N',ascending=False).head(1000).sort_values(by='常住人口',ascending=False).head(1000).drop(columns='N')\n",
    "all.drop(columns='峰值日').to_clipboard(index=False)\n"
   ]
  },
  {
   "cell_type": "code",
   "execution_count": 32,
   "metadata": {},
   "outputs": [],
   "source": [
    "d1=pd.read_hdf('Processed_Data/tablehead.h5','all')\n",
    "# d1.to_hdf('Processed_Data/tablehead.h5','all')\n",
    "d1.merge(all,on='城市',how='left').to_clipboard(index=False)"
   ]
  },
  {
   "cell_type": "code",
   "execution_count": 14,
   "metadata": {},
   "outputs": [
    {
     "name": "stdout",
     "output_type": "stream",
     "text": [
      "The autoreload extension is already loaded. To reload it, use:\n",
      "  %reload_ext autoreload\n"
     ]
    },
    {
     "data": {
      "text/html": [
       "<div>\n",
       "<style scoped>\n",
       "    .dataframe tbody tr th:only-of-type {\n",
       "        vertical-align: middle;\n",
       "    }\n",
       "\n",
       "    .dataframe tbody tr th {\n",
       "        vertical-align: top;\n",
       "    }\n",
       "\n",
       "    .dataframe thead th {\n",
       "        text-align: right;\n",
       "    }\n",
       "</style>\n",
       "<table border=\"1\" class=\"dataframe\">\n",
       "  <thead>\n",
       "    <tr style=\"text-align: right;\">\n",
       "      <th></th>\n",
       "      <th>城市</th>\n",
       "      <th>GDP</th>\n",
       "      <th>人均可支配收入</th>\n",
       "      <th>常住人口</th>\n",
       "      <th>峰值日</th>\n",
       "      <th>covid_progess</th>\n",
       "      <th>amap</th>\n",
       "      <th>airports</th>\n",
       "      <th>subway</th>\n",
       "      <th>BDcomsu</th>\n",
       "      <th>heytea</th>\n",
       "      <th>movie</th>\n",
       "      <th>hdl</th>\n",
       "      <th>hotel</th>\n",
       "    </tr>\n",
       "  </thead>\n",
       "  <tbody>\n",
       "    <tr>\n",
       "      <th>247</th>\n",
       "      <td>上海</td>\n",
       "      <td>38701.0</td>\n",
       "      <td>76437.0</td>\n",
       "      <td>2488.0</td>\n",
       "      <td>2022/12/22</td>\n",
       "      <td>0.0</td>\n",
       "      <td>0.978566</td>\n",
       "      <td>0.574955</td>\n",
       "      <td>0.685585</td>\n",
       "      <td>0.860769</td>\n",
       "      <td>1.305499</td>\n",
       "      <td>0.37</td>\n",
       "      <td>0.65091</td>\n",
       "      <td>1.067548</td>\n",
       "    </tr>\n",
       "  </tbody>\n",
       "</table>\n",
       "</div>"
      ],
      "text/plain": [
       "     城市      GDP  人均可支配收入    常住人口         峰值日  covid_progess      amap  \\\n",
       "247  上海  38701.0  76437.0  2488.0  2022/12/22            0.0  0.978566   \n",
       "\n",
       "     airports    subway   BDcomsu    heytea  movie      hdl     hotel  \n",
       "247  0.574955  0.685585  0.860769  1.305499   0.37  0.65091  1.067548  "
      ]
     },
     "execution_count": 14,
     "metadata": {},
     "output_type": "execute_result"
    }
   ],
   "source": [
    "%load_ext autoreload\n",
    "%autoreload 2\n",
    "from colored_list import dafeng_city,jidui_city,riqi\n",
    "all[all['城市'].isin(['上海'])]"
   ]
  }
 ],
 "metadata": {
  "kernelspec": {
   "display_name": "Python 3",
   "language": "python",
   "name": "python3"
  },
  "language_info": {
   "codemirror_mode": {
    "name": "ipython",
    "version": 3
   },
   "file_extension": ".py",
   "mimetype": "text/x-python",
   "name": "python",
   "nbconvert_exporter": "python",
   "pygments_lexer": "ipython3",
   "version": "3.10.4"
  },
  "orig_nbformat": 4,
  "vscode": {
   "interpreter": {
    "hash": "e261ef090d81a4146804326fe048341ae181a2e90c498e25bece4d3ce4ed8c39"
   }
  }
 },
 "nbformat": 4,
 "nbformat_minor": 2
}
