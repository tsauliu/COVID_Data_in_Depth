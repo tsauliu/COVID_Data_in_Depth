{
 "cells": [
  {
   "cell_type": "code",
   "execution_count": 2,
   "metadata": {},
   "outputs": [],
   "source": [
    "import warnings\n",
    "warnings.simplefilter(action='ignore')\n",
    "\n",
    "import pandas as pd\n",
    "import numpy as np\n",
    "import datetime"
   ]
  },
  {
   "cell_type": "code",
   "execution_count": 2,
   "metadata": {},
   "outputs": [
    {
     "data": {
      "text/plain": [
       "['/airports', '/amap', '/hdl', '/heytea', '/hotel', '/movie', '/subway']"
      ]
     },
     "execution_count": 2,
     "metadata": {},
     "output_type": "execute_result"
    }
   ],
   "source": [
    "datapath='Processed_Data/city_compare.h5'\n",
    "db=pd.HDFStore(datapath)\n",
    "db.keys()\n",
    "# db.close()"
   ]
  },
  {
   "cell_type": "code",
   "execution_count": 9,
   "metadata": {},
   "outputs": [],
   "source": [
    "airports=db['airports'].drop(columns='date')\n",
    "amap=db['amap'].drop(columns='date')\n",
    "hdl=db['hdl'].drop(columns='date')\n",
    "heytea=db['heytea'].drop(columns='date')\n",
    "hotel=db['hotel'].drop(columns='date')\n",
    "subway=db['subway'].drop(columns='date')\n",
    "movie=db['movie'].drop(columns='date')"
   ]
  },
  {
   "cell_type": "code",
   "execution_count": 22,
   "metadata": {},
   "outputs": [
    {
     "data": {
      "text/html": [
       "<div>\n",
       "<style scoped>\n",
       "    .dataframe tbody tr th:only-of-type {\n",
       "        vertical-align: middle;\n",
       "    }\n",
       "\n",
       "    .dataframe tbody tr th {\n",
       "        vertical-align: top;\n",
       "    }\n",
       "\n",
       "    .dataframe thead th {\n",
       "        text-align: right;\n",
       "    }\n",
       "</style>\n",
       "<table border=\"1\" class=\"dataframe\">\n",
       "  <thead>\n",
       "    <tr style=\"text-align: right;\">\n",
       "      <th></th>\n",
       "      <th>城市</th>\n",
       "      <th>GDP</th>\n",
       "      <th>人均可支配收入</th>\n",
       "      <th>常住人口</th>\n",
       "    </tr>\n",
       "  </thead>\n",
       "  <tbody>\n",
       "    <tr>\n",
       "      <th>0</th>\n",
       "      <td>合肥</td>\n",
       "      <td>10046</td>\n",
       "      <td>48283</td>\n",
       "      <td>512</td>\n",
       "    </tr>\n",
       "    <tr>\n",
       "      <th>1</th>\n",
       "      <td>阜阳</td>\n",
       "      <td>2805</td>\n",
       "      <td>34562</td>\n",
       "      <td>213</td>\n",
       "    </tr>\n",
       "    <tr>\n",
       "      <th>2</th>\n",
       "      <td>安庆</td>\n",
       "      <td>2468</td>\n",
       "      <td>35947</td>\n",
       "      <td>80</td>\n",
       "    </tr>\n",
       "    <tr>\n",
       "      <th>3</th>\n",
       "      <td>六安</td>\n",
       "      <td>1670</td>\n",
       "      <td>33647</td>\n",
       "      <td>197</td>\n",
       "    </tr>\n",
       "    <tr>\n",
       "      <th>4</th>\n",
       "      <td>滁州</td>\n",
       "      <td>3032</td>\n",
       "      <td>36051</td>\n",
       "      <td>78</td>\n",
       "    </tr>\n",
       "    <tr>\n",
       "      <th>...</th>\n",
       "      <td>...</td>\n",
       "      <td>...</td>\n",
       "      <td>...</td>\n",
       "      <td>...</td>\n",
       "    </tr>\n",
       "    <tr>\n",
       "      <th>292</th>\n",
       "      <td>丽水</td>\n",
       "      <td>1540</td>\n",
       "      <td>48532</td>\n",
       "      <td>56</td>\n",
       "    </tr>\n",
       "    <tr>\n",
       "      <th>293</th>\n",
       "      <td>嘉兴</td>\n",
       "      <td>5510</td>\n",
       "      <td>64124</td>\n",
       "      <td>152</td>\n",
       "    </tr>\n",
       "    <tr>\n",
       "      <th>294</th>\n",
       "      <td>舟山</td>\n",
       "      <td>1512</td>\n",
       "      <td>63702</td>\n",
       "      <td>88</td>\n",
       "    </tr>\n",
       "    <tr>\n",
       "      <th>295</th>\n",
       "      <td>绍兴</td>\n",
       "      <td>6001</td>\n",
       "      <td>66694</td>\n",
       "      <td>300</td>\n",
       "    </tr>\n",
       "    <tr>\n",
       "      <th>296</th>\n",
       "      <td>重庆</td>\n",
       "      <td>25003</td>\n",
       "      <td>40006</td>\n",
       "      <td>2542</td>\n",
       "    </tr>\n",
       "  </tbody>\n",
       "</table>\n",
       "<p>297 rows × 4 columns</p>\n",
       "</div>"
      ],
      "text/plain": [
       "     城市    GDP  人均可支配收入  常住人口\n",
       "0    合肥  10046    48283   512\n",
       "1    阜阳   2805    34562   213\n",
       "2    安庆   2468    35947    80\n",
       "3    六安   1670    33647   197\n",
       "4    滁州   3032    36051    78\n",
       "..   ..    ...      ...   ...\n",
       "292  丽水   1540    48532    56\n",
       "293  嘉兴   5510    64124   152\n",
       "294  舟山   1512    63702    88\n",
       "295  绍兴   6001    66694   300\n",
       "296  重庆  25003    40006  2542\n",
       "\n",
       "[297 rows x 4 columns]"
      ]
     },
     "execution_count": 22,
     "metadata": {},
     "output_type": "execute_result"
    }
   ],
   "source": [
    "city_popu=pd.read_hdf('./Processed_Data/citypopu.h5',key='raw2')\n",
    "city_popu['城市']=city_popu['城市'].str.replace('市',\"\")\n",
    "city_popu['常住人口']=pd.to_numeric(city_popu['常住人口'])\n",
    "city_popu"
   ]
  },
  {
   "cell_type": "code",
   "execution_count": 9,
   "metadata": {},
   "outputs": [
    {
     "data": {
      "text/html": [
       "<div>\n",
       "<style scoped>\n",
       "    .dataframe tbody tr th:only-of-type {\n",
       "        vertical-align: middle;\n",
       "    }\n",
       "\n",
       "    .dataframe tbody tr th {\n",
       "        vertical-align: top;\n",
       "    }\n",
       "\n",
       "    .dataframe thead th {\n",
       "        text-align: right;\n",
       "    }\n",
       "</style>\n",
       "<table border=\"1\" class=\"dataframe\">\n",
       "  <thead>\n",
       "    <tr style=\"text-align: right;\">\n",
       "      <th></th>\n",
       "      <th>城市</th>\n",
       "      <th>人均可支配收入</th>\n",
       "    </tr>\n",
       "  </thead>\n",
       "  <tbody>\n",
       "    <tr>\n",
       "      <th>0</th>\n",
       "      <td>上海</td>\n",
       "      <td>76,437</td>\n",
       "    </tr>\n",
       "    <tr>\n",
       "      <th>1</th>\n",
       "      <td>北京</td>\n",
       "      <td>75,602</td>\n",
       "    </tr>\n",
       "    <tr>\n",
       "      <th>2</th>\n",
       "      <td>苏州</td>\n",
       "      <td>70,966</td>\n",
       "    </tr>\n",
       "    <tr>\n",
       "      <th>3</th>\n",
       "      <td>杭州</td>\n",
       "      <td>68,666</td>\n",
       "    </tr>\n",
       "    <tr>\n",
       "      <th>4</th>\n",
       "      <td>广州</td>\n",
       "      <td>68,304</td>\n",
       "    </tr>\n",
       "    <tr>\n",
       "      <th>...</th>\n",
       "      <td>...</td>\n",
       "      <td>...</td>\n",
       "    </tr>\n",
       "    <tr>\n",
       "      <th>292</th>\n",
       "      <td>潮州</td>\n",
       "      <td>26,440</td>\n",
       "    </tr>\n",
       "    <tr>\n",
       "      <th>293</th>\n",
       "      <td>七台河</td>\n",
       "      <td>26,315</td>\n",
       "    </tr>\n",
       "    <tr>\n",
       "      <th>294</th>\n",
       "      <td>鸡西</td>\n",
       "      <td>25,957</td>\n",
       "    </tr>\n",
       "    <tr>\n",
       "      <th>295</th>\n",
       "      <td>鹤岗</td>\n",
       "      <td>24,521</td>\n",
       "    </tr>\n",
       "    <tr>\n",
       "      <th>296</th>\n",
       "      <td>三沙</td>\n",
       "      <td>0</td>\n",
       "    </tr>\n",
       "  </tbody>\n",
       "</table>\n",
       "<p>297 rows × 2 columns</p>\n",
       "</div>"
      ],
      "text/plain": [
       "      城市 人均可支配收入\n",
       "0     上海  76,437\n",
       "1     北京  75,602\n",
       "2     苏州  70,966\n",
       "3     杭州  68,666\n",
       "4     广州  68,304\n",
       "..   ...     ...\n",
       "292   潮州  26,440\n",
       "293  七台河  26,315\n",
       "294   鸡西  25,957\n",
       "295   鹤岗  24,521\n",
       "296   三沙       0\n",
       "\n",
       "[297 rows x 2 columns]"
      ]
     },
     "execution_count": 9,
     "metadata": {},
     "output_type": "execute_result"
    }
   ],
   "source": [
    "# city_income=pd.read_clipboard()\n",
    "city_income=pd.read_hdf('./Processed_Data/citypopu.h5',key='cityincome')\n",
    "city_income"
   ]
  },
  {
   "cell_type": "code",
   "execution_count": 17,
   "metadata": {},
   "outputs": [],
   "source": [
    "# city_GDP=pd.read_clipboard()\n",
    "city_GDP.to_hdf('./Processed_Data/citypopu.h5',key='raw2')\n",
    "# city_GDP.merge(city_income,how='left',on='城市').merge(city_popu,how='left',on='城市')"
   ]
  },
  {
   "cell_type": "code",
   "execution_count": 20,
   "metadata": {},
   "outputs": [
    {
     "data": {
      "text/html": [
       "<div>\n",
       "<style scoped>\n",
       "    .dataframe tbody tr th:only-of-type {\n",
       "        vertical-align: middle;\n",
       "    }\n",
       "\n",
       "    .dataframe tbody tr th {\n",
       "        vertical-align: top;\n",
       "    }\n",
       "\n",
       "    .dataframe thead th {\n",
       "        text-align: right;\n",
       "    }\n",
       "</style>\n",
       "<table border=\"1\" class=\"dataframe\">\n",
       "  <thead>\n",
       "    <tr style=\"text-align: right;\">\n",
       "      <th></th>\n",
       "      <th>城市</th>\n",
       "      <th>峰值日</th>\n",
       "      <th>covid_progess</th>\n",
       "    </tr>\n",
       "  </thead>\n",
       "  <tbody>\n",
       "    <tr>\n",
       "      <th>0</th>\n",
       "      <td>南昌</td>\n",
       "      <td>2022/12/20</td>\n",
       "      <td>0.0</td>\n",
       "    </tr>\n",
       "    <tr>\n",
       "      <th>1</th>\n",
       "      <td>武汉</td>\n",
       "      <td>2022/12/15</td>\n",
       "      <td>0.0</td>\n",
       "    </tr>\n",
       "  </tbody>\n",
       "</table>\n",
       "</div>"
      ],
      "text/plain": [
       "   城市         峰值日  covid_progess\n",
       "0  南昌  2022/12/20            0.0\n",
       "1  武汉  2022/12/15            0.0"
      ]
     },
     "execution_count": 20,
     "metadata": {},
     "output_type": "execute_result"
    }
   ],
   "source": [
    "df_covid=pd.read_hdf('Processed_Data/Baidu_covid_progress.h5',key='raw')\n",
    "df_covid=df_covid[['city','peak','progress_2']]\n",
    "df_covid.columns=['城市','峰值日','covid_progess']\n",
    "df_covid['covid_progess']=pd.to_numeric(df_covid['covid_progess'])/100\n",
    "df_covid.head(2)"
   ]
  },
  {
   "cell_type": "code",
   "execution_count": 13,
   "metadata": {},
   "outputs": [
    {
     "data": {
      "text/html": [
       "<div>\n",
       "<style scoped>\n",
       "    .dataframe tbody tr th:only-of-type {\n",
       "        vertical-align: middle;\n",
       "    }\n",
       "\n",
       "    .dataframe tbody tr th {\n",
       "        vertical-align: top;\n",
       "    }\n",
       "\n",
       "    .dataframe thead th {\n",
       "        text-align: right;\n",
       "    }\n",
       "</style>\n",
       "<table border=\"1\" class=\"dataframe\">\n",
       "  <thead>\n",
       "    <tr style=\"text-align: right;\">\n",
       "      <th></th>\n",
       "      <th>城市</th>\n",
       "      <th>hdl</th>\n",
       "    </tr>\n",
       "  </thead>\n",
       "  <tbody>\n",
       "    <tr>\n",
       "      <th>70</th>\n",
       "      <td>莆田</td>\n",
       "      <td>0.176434</td>\n",
       "    </tr>\n",
       "  </tbody>\n",
       "</table>\n",
       "</div>"
      ],
      "text/plain": [
       "    城市       hdl\n",
       "70  莆田  0.176434"
      ]
     },
     "execution_count": 13,
     "metadata": {},
     "output_type": "execute_result"
    }
   ],
   "source": [
    "hdl[hdl['城市']=='莆田']"
   ]
  },
  {
   "cell_type": "code",
   "execution_count": 21,
   "metadata": {},
   "outputs": [],
   "source": [
    "all=city_income.merge(city_popu,how='left',on='城市').merge(df_covid,how='left',on='城市').merge(amap,how='left',on='城市').merge(airports,how='outer',on='城市').merge(subway,how='outer',on='城市').merge(heytea,how='outer',on='城市').merge(movie,how='outer',on='城市').merge(hdl,how='outer',on='城市').merge(hotel,how='outer',on='城市')\n",
    "\n",
    "\n",
    "all['N']=all.count(axis=1)\n",
    "all=all[all['covid_progess']>0]\n",
    "\n",
    "all=all.sort_values(by='N',ascending=False).head(50).sort_values(by='常住人口',ascending=False).head(35).drop(columns='N')\n",
    "all.to_clipboard(index=False)\n"
   ]
  }
 ],
 "metadata": {
  "kernelspec": {
   "display_name": "Python 3",
   "language": "python",
   "name": "python3"
  },
  "language_info": {
   "codemirror_mode": {
    "name": "ipython",
    "version": 3
   },
   "file_extension": ".py",
   "mimetype": "text/x-python",
   "name": "python",
   "nbconvert_exporter": "python",
   "pygments_lexer": "ipython3",
   "version": "3.10.4"
  },
  "orig_nbformat": 4,
  "vscode": {
   "interpreter": {
    "hash": "e261ef090d81a4146804326fe048341ae181a2e90c498e25bece4d3ce4ed8c39"
   }
  }
 },
 "nbformat": 4,
 "nbformat_minor": 2
}
