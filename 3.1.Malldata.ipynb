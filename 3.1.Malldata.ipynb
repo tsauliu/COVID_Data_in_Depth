{
 "cells": [
  {
   "cell_type": "code",
   "execution_count": 1,
   "metadata": {},
   "outputs": [
    {
     "name": "stdout",
     "output_type": "stream",
     "text": [
      "baiduTrafficV2_2022-12-31.csv\n",
      "baiduTrafficV2_2023-01-01.csv\n",
      "baiduTrafficV2_2023-01-02.csv\n",
      "baiduTrafficV2_2023-01-03.csv\n",
      "baiduTrafficV2_2023-01-04.csv\n",
      "baiduTrafficV2_2023-01-05.csv\n",
      "baiduTrafficV2_2023-01-06.csv\n",
      "baiduTrafficV2_2023-01-07.csv\n",
      "baiduTrafficV2_2023-01-08.csv\n",
      "baiduTrafficV2_2023-01-09.csv\n"
     ]
    },
    {
     "data": {
      "text/html": [
       "<div>\n",
       "<style scoped>\n",
       "    .dataframe tbody tr th:only-of-type {\n",
       "        vertical-align: middle;\n",
       "    }\n",
       "\n",
       "    .dataframe tbody tr th {\n",
       "        vertical-align: top;\n",
       "    }\n",
       "\n",
       "    .dataframe thead th {\n",
       "        text-align: right;\n",
       "    }\n",
       "</style>\n",
       "<table border=\"1\" class=\"dataframe\">\n",
       "  <thead>\n",
       "    <tr style=\"text-align: right;\">\n",
       "      <th></th>\n",
       "      <th>编号</th>\n",
       "      <th>省份</th>\n",
       "      <th>城市</th>\n",
       "      <th>城市线</th>\n",
       "      <th>商场名称</th>\n",
       "      <th>经度</th>\n",
       "      <th>纬度</th>\n",
       "      <th>抓取日期</th>\n",
       "      <th>抓取时段</th>\n",
       "      <th>路况语义化描述</th>\n",
       "      <th>路况状态</th>\n",
       "      <th>路径整体评价</th>\n",
       "      <th>附近道路数量</th>\n",
       "      <th>样本道路数量</th>\n",
       "      <th>平均通行速度（KM/H)</th>\n",
       "      <th>radius</th>\n",
       "    </tr>\n",
       "  </thead>\n",
       "  <tbody>\n",
       "    <tr>\n",
       "      <th>3489</th>\n",
       "      <td>181</td>\n",
       "      <td>山西</td>\n",
       "      <td>运城</td>\n",
       "      <td>三线及以下</td>\n",
       "      <td>运城万达广场</td>\n",
       "      <td>111.034429</td>\n",
       "      <td>35.049713</td>\n",
       "      <td>2023-01-09</td>\n",
       "      <td>20</td>\n",
       "      <td>该区域整体畅通。</td>\n",
       "      <td>1.0</td>\n",
       "      <td>畅通</td>\n",
       "      <td>1</td>\n",
       "      <td>0</td>\n",
       "      <td>NaN</td>\n",
       "      <td>200</td>\n",
       "    </tr>\n",
       "    <tr>\n",
       "      <th>3490</th>\n",
       "      <td>268</td>\n",
       "      <td>西藏</td>\n",
       "      <td>日喀则</td>\n",
       "      <td>三线及以下</td>\n",
       "      <td>日喀则上海广场购物中心（居安乐购物中心）</td>\n",
       "      <td>88.904335</td>\n",
       "      <td>29.263846</td>\n",
       "      <td>2023-01-09</td>\n",
       "      <td>20</td>\n",
       "      <td>该区域整体畅通。</td>\n",
       "      <td>1.0</td>\n",
       "      <td>畅通</td>\n",
       "      <td>2</td>\n",
       "      <td>0</td>\n",
       "      <td>NaN</td>\n",
       "      <td>200</td>\n",
       "    </tr>\n",
       "  </tbody>\n",
       "</table>\n",
       "</div>"
      ],
      "text/plain": [
       "       编号  省份   城市    城市线                  商场名称          经度         纬度  \\\n",
       "3489  181  山西   运城  三线及以下                运城万达广场  111.034429  35.049713   \n",
       "3490  268  西藏  日喀则  三线及以下  日喀则上海广场购物中心（居安乐购物中心）   88.904335  29.263846   \n",
       "\n",
       "            抓取日期  抓取时段   路况语义化描述  路况状态 路径整体评价  附近道路数量  样本道路数量  平均通行速度（KM/H)  \\\n",
       "3489  2023-01-09    20  该区域整体畅通。   1.0     畅通       1       0           NaN   \n",
       "3490  2023-01-09    20  该区域整体畅通。   1.0     畅通       2       0           NaN   \n",
       "\n",
       "      radius  \n",
       "3489     200  \n",
       "3490     200  "
      ]
     },
     "execution_count": 1,
     "metadata": {},
     "output_type": "execute_result"
    }
   ],
   "source": [
    "#get daily covid cases\n",
    "\n",
    "import warnings\n",
    "warnings.simplefilter(action='ignore')\n",
    "\n",
    "import pandas as pd\n",
    "import os\n",
    "df=pd.DataFrame()\n",
    "for f in os.listdir(r'./DataSource/baiduMap')[-10:]:\n",
    "    print(f)\n",
    "    d=pd.read_csv(r'./DataSource/baiduMap/'+f, on_bad_lines='skip')\n",
    "    df=pd.concat([df,d])\n",
    "\n",
    "# df=df.rename(columns={'抓取日期':'test','抓取时段':'抓取日期','路况语义化描述':'抓取时段'})\n",
    "df['抓取日期']=pd.to_datetime(df['抓取日期']).dt.date\n",
    "df=df.drop_duplicates(subset=['城市','商场名称','抓取日期','抓取时段'])\n",
    "\n",
    "df.tail(2)"
   ]
  },
  {
   "cell_type": "code",
   "execution_count": 2,
   "metadata": {},
   "outputs": [],
   "source": [
    "old=pd.read_hdf(r'Processed_Data/mall.h5',key='0105')\n",
    "df=pd.concat([old,df])\n",
    "df=df.drop_duplicates()\n",
    "df.to_hdf(r'Processed_Data/mall.h5',key='0105')"
   ]
  },
  {
   "cell_type": "code",
   "execution_count": 14,
   "metadata": {},
   "outputs": [],
   "source": [
    "#copy to wkbk\n",
    "d1=pd.read_hdf('Processed_Data/Mallcity.h5','raw')\n",
    "d2=pd.pivot_table(df[df['抓取日期'].astype('str')>'2023-01-05'],index=['城市线','城市','商场名称'],columns=['抓取日期','抓取时段'],values='路况状态',aggfunc='max').reset_index().fillna(1)\n",
    "d3=d1.merge(d2,how='left',on=['城市线', '城市', '商场名称'])\n",
    "d3.to_clipboard(index=False)"
   ]
  },
  {
   "cell_type": "code",
   "execution_count": 12,
   "metadata": {},
   "outputs": [],
   "source": [
    "#charts\n",
    "import numpy as np\n",
    "\n",
    "d=df.copy()\n",
    "c1=d['城市'].isin(d1['城市'].drop_duplicates())\n",
    "c2=d['省份'].isin(d1['城市'].drop_duplicates())\n",
    "\n",
    "d=d[c1|c2]\n",
    "\n",
    "c3=d['抓取时段'].isin([10,12,14])\n",
    "d=d[~c3]\n",
    "\n",
    "d_N=d.groupby(by=['抓取日期','抓取时段'])['编号'].count().reset_index().rename(columns={'编号':'N'})\n",
    "\n",
    "d=d.groupby(by=['抓取日期','抓取时段','路径整体评价'])['编号'].count().reset_index()\n",
    "\n",
    "d=d[d['路径整体评价']=='畅通']\n",
    "d=d.merge(d_N,on=['抓取日期','抓取时段'],how='left')\n",
    "d['拥堵率']=1-(d['编号']/d['N'])\n",
    "\n",
    "d=d.sort_values(by=['抓取日期','抓取时段'],ascending=True)\n",
    "d['拥堵率_last7d_mean']=d.groupby(by='抓取时段')['拥堵率'].transform(lambda x: x.rolling(7, 1).mean())\n",
    "show=pd.pivot_table(d,index=['抓取日期'],columns='抓取时段',values='拥堵率_last7d_mean',aggfunc='mean')\n",
    "show['sum']=np.nan\n",
    "cols=[show.columns[-1]]+list(show.columns[:-1])\n",
    "show=show[cols]\n",
    "show.to_clipboard(header=False)"
   ]
  },
  {
   "cell_type": "code",
   "execution_count": 23,
   "metadata": {},
   "outputs": [],
   "source": [
    "o=d[d['抓取时段']==20][['抓取日期','拥堵率','拥堵率_last7d_mean']]\n",
    "o.to_clipboard()"
   ]
  }
 ],
 "metadata": {
  "kernelspec": {
   "display_name": "Python 3",
   "language": "python",
   "name": "python3"
  },
  "language_info": {
   "codemirror_mode": {
    "name": "ipython",
    "version": 3
   },
   "file_extension": ".py",
   "mimetype": "text/x-python",
   "name": "python",
   "nbconvert_exporter": "python",
   "pygments_lexer": "ipython3",
   "version": "3.10.4"
  },
  "orig_nbformat": 4,
  "vscode": {
   "interpreter": {
    "hash": "e261ef090d81a4146804326fe048341ae181a2e90c498e25bece4d3ce4ed8c39"
   }
  }
 },
 "nbformat": 4,
 "nbformat_minor": 2
}
